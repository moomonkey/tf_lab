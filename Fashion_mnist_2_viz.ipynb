{
  "nbformat": 4,
  "nbformat_minor": 0,
  "metadata": {
    "colab": {
      "name": "Fashion_mnist_2-viz.ipynb",
      "provenance": [],
      "collapsed_sections": [],
      "include_colab_link": true
    },
    "kernelspec": {
      "name": "python3",
      "display_name": "Python 3"
    }
  },
  "cells": [
    {
      "cell_type": "markdown",
      "metadata": {
        "id": "view-in-github",
        "colab_type": "text"
      },
      "source": [
        "<a href=\"https://colab.research.google.com/github/moomonkey/tf_lab/blob/master/Fashion_mnist_2_viz.ipynb\" target=\"_parent\"><img src=\"https://colab.research.google.com/assets/colab-badge.svg\" alt=\"Open In Colab\"/></a>"
      ]
    },
    {
      "cell_type": "markdown",
      "metadata": {
        "id": "9UUZbnatoytc",
        "colab_type": "text"
      },
      "source": [
        "# Denna kod använder Tensorflow, keras, med Fashion-mnist som databas\n",
        "\n",
        "# Denna kod är baserad på dokumentation i Francois Chollets \"Deep learning with Python\", tensorflow API, docs, och tutorials: https://www.tensorflow.org/tutorials/keras/basic_classification och Keras dokumentation, https://keras.io/examples/mnist_cnn/. Visualisering är inkluderad för att verifiera koden."
      ]
    },
    {
      "cell_type": "markdown",
      "metadata": {
        "id": "me5FZHjdX_K0",
        "colab_type": "text"
      },
      "source": [
        "# Imports"
      ]
    },
    {
      "cell_type": "code",
      "metadata": {
        "id": "1lcC8RBSrBXa",
        "colab_type": "code",
        "outputId": "bb489b80-cc93-4ae0-8ee0-dd10bc152e41",
        "colab": {
          "base_uri": "https://localhost:8080/",
          "height": 64
        }
      },
      "source": [
        "import tensorflow as tf\n",
        "from tensorflow import keras\n",
        "import numpy as np\n",
        "import matplotlib.pyplot as plt\n",
        "%matplotlib inline"
      ],
      "execution_count": 4,
      "outputs": [
        {
          "output_type": "display_data",
          "data": {
            "text/html": [
              "<p style=\"color: red;\">\n",
              "The default version of TensorFlow in Colab will soon switch to TensorFlow 2.x.<br>\n",
              "We recommend you <a href=\"https://www.tensorflow.org/guide/migrate\" target=\"_blank\">upgrade</a> now \n",
              "or ensure your notebook will continue to use TensorFlow 1.x via the <code>%tensorflow_version 1.x</code> magic:\n",
              "<a href=\"https://colab.research.google.com/notebooks/tensorflow_version.ipynb\" target=\"_blank\">more info</a>.</p>\n"
            ],
            "text/plain": [
              "<IPython.core.display.HTML object>"
            ]
          },
          "metadata": {
            "tags": []
          }
        }
      ]
    },
    {
      "cell_type": "markdown",
      "metadata": {
        "id": "k1d1R4zRr547",
        "colab_type": "text"
      },
      "source": [
        "# Importera dataset Fashion-mnist, vilket har 10 kategorier, i träningsdata, träningslabel för att träna modellen, testdata och testlabels för att testa modellen"
      ]
    },
    {
      "cell_type": "code",
      "metadata": {
        "id": "wp8OzUiRsbzy",
        "colab_type": "code",
        "outputId": "6cd6aa25-c336-41fe-817c-88887c8f697c",
        "colab": {
          "base_uri": "https://localhost:8080/",
          "height": 156
        }
      },
      "source": [
        "fashion_mnist = tf.keras.datasets.fashion_mnist\n",
        "(train_img, train_labels), (test_img, test_labels) = tf.keras.datasets.fashion_mnist.load_data()"
      ],
      "execution_count": 5,
      "outputs": [
        {
          "output_type": "stream",
          "text": [
            "Downloading data from https://storage.googleapis.com/tensorflow/tf-keras-datasets/train-labels-idx1-ubyte.gz\n",
            "32768/29515 [=================================] - 0s 0us/step\n",
            "Downloading data from https://storage.googleapis.com/tensorflow/tf-keras-datasets/train-images-idx3-ubyte.gz\n",
            "26427392/26421880 [==============================] - 1s 0us/step\n",
            "Downloading data from https://storage.googleapis.com/tensorflow/tf-keras-datasets/t10k-labels-idx1-ubyte.gz\n",
            "8192/5148 [===============================================] - 0s 0us/step\n",
            "Downloading data from https://storage.googleapis.com/tensorflow/tf-keras-datasets/t10k-images-idx3-ubyte.gz\n",
            "4423680/4422102 [==============================] - 0s 0us/step\n"
          ],
          "name": "stdout"
        }
      ]
    },
    {
      "cell_type": "markdown",
      "metadata": {
        "id": "2eurV1qTynVO",
        "colab_type": "text"
      },
      "source": [
        "# Se träningsdata och testdata"
      ]
    },
    {
      "cell_type": "code",
      "metadata": {
        "id": "HeAW2tGIy2tt",
        "colab_type": "code",
        "outputId": "55c55c14-a8f1-4643-bb22-5c03a27890be",
        "colab": {
          "base_uri": "https://localhost:8080/",
          "height": 52
        }
      },
      "source": [
        "print(\"Träningsbilder: \", train_img.shape, \"Träningsetiketter: \", train_labels.shape) #består av 60000 exempel i 28*28 pixelformat\n",
        "#Se test data\n",
        "print(\"Testbilder: \", test_img.shape, \"Testetiketter: \", test_labels.shape) #består av 10000 exempel i 28*28 format\n",
        "#Skapa etiketter\n",
        "fashion_cat = ['T-shirt', 'Trousers', 'Pullover', 'Dress', 'Coat', 'Sandal','Shirt', 'Sneaker', 'Bag', 'Boot']"
      ],
      "execution_count": 6,
      "outputs": [
        {
          "output_type": "stream",
          "text": [
            "Träningsbilder:  (60000, 28, 28) Träningsetiketter:  (60000,)\n",
            "Testbilder:  (10000, 28, 28) Testetiketter:  (10000,)\n"
          ],
          "name": "stdout"
        }
      ]
    },
    {
      "cell_type": "code",
      "metadata": {
        "id": "WqtYOIU7v64i",
        "colab_type": "code",
        "colab": {}
      },
      "source": [
        ""
      ],
      "execution_count": 0,
      "outputs": []
    },
    {
      "cell_type": "markdown",
      "metadata": {
        "id": "-Z0EkEX4rePq",
        "colab_type": "text"
      },
      "source": [
        "#Förbered datan och normalisera. Encode etiketter"
      ]
    },
    {
      "cell_type": "code",
      "metadata": {
        "id": "RTDPvw3Yrj1R",
        "colab_type": "code",
        "outputId": "2dc95441-0d85-47e5-d2b2-f1f0bbb9c898",
        "colab": {
          "base_uri": "https://localhost:8080/",
          "height": 104
        }
      },
      "source": [
        "import pandas as pd\n",
        "train_img = train_img.reshape(-1,28,28,1)\n",
        "print(train_img.shape)\n",
        "test_img = test_img.reshape(-1,28,28,1)\n",
        "print(test_img.shape)\n",
        "#Ändra typ till fl32\n",
        "train_img = train_img.astype('float32') / 255 #Normalisera pixeldimension från 0-255 till 0-1\n",
        "test_img = test_img.astype('float32') / 255\n",
        "#Encode etiketter\n",
        "from keras.utils import to_categorical\n",
        "train_labels = to_categorical(train_labels)\n",
        "test_labels = to_categorical(test_labels)\n",
        "print(train_labels.shape) #se output\n",
        "print(test_labels.shape)"
      ],
      "execution_count": 7,
      "outputs": [
        {
          "output_type": "stream",
          "text": [
            "(60000, 28, 28, 1)\n",
            "(10000, 28, 28, 1)\n",
            "(60000, 10)\n",
            "(10000, 10)\n"
          ],
          "name": "stdout"
        },
        {
          "output_type": "stream",
          "text": [
            "Using TensorFlow backend.\n"
          ],
          "name": "stderr"
        }
      ]
    },
    {
      "cell_type": "code",
      "metadata": {
        "id": "RslQhLTIS9jl",
        "colab_type": "code",
        "outputId": "d99bad4e-f9dc-4a78-849f-8fe2cb16f546",
        "colab": {
          "base_uri": "https://localhost:8080/",
          "height": 574
        }
      },
      "source": [
        "model = tf.keras.Sequential()\n",
        "#Lager ett med Conv2D (32 channels, 3X3 filter), Maxpooling. Använder padding och Dropout(0.3)\n",
        "model.add(tf.keras.layers.Conv2D(32, (3,3), padding='same', activation='relu', input_shape=(28, 28, 1)))\n",
        "model.add(tf.keras.layers.MaxPooling2D(pool_size=2))#storlek på poolingfönster\n",
        "model.add(tf.keras.layers.Dropout(0.3))\n",
        "#lager två med Conv2D (64 channels, 3X3 filter), Maxpooling. Använder padding och Dropout (0.3)\n",
        "model.add(tf.keras.layers.Conv2D(64, (3,3), padding='same', activation='relu'))\n",
        "model.add(tf.keras.layers.MaxPooling2D(pool_size=2))\n",
        "model.add(tf.keras.layers.Dropout(0.3))\n",
        "#Flatten och classification\n",
        "model.add(tf.keras.layers.Flatten())\n",
        "model.add(tf.keras.layers.Dropout(0.3)) # lade till dropout för att regulera overfit\n",
        "model.add(tf.keras.layers.Dense(100, activation='relu')) #Dense är 100 neurons \"fully connected\"\n",
        "model.add(tf.keras.layers.Dense(10, activation= 'softmax'))#probabilty score (10 neurons) till kategorierna\n",
        "\n",
        "model.summary()"
      ],
      "execution_count": 8,
      "outputs": [
        {
          "output_type": "stream",
          "text": [
            "WARNING:tensorflow:From /usr/local/lib/python3.6/dist-packages/tensorflow_core/python/ops/resource_variable_ops.py:1630: calling BaseResourceVariable.__init__ (from tensorflow.python.ops.resource_variable_ops) with constraint is deprecated and will be removed in a future version.\n",
            "Instructions for updating:\n",
            "If using Keras pass *_constraint arguments to layers.\n",
            "Model: \"sequential\"\n",
            "_________________________________________________________________\n",
            "Layer (type)                 Output Shape              Param #   \n",
            "=================================================================\n",
            "conv2d (Conv2D)              (None, 28, 28, 32)        320       \n",
            "_________________________________________________________________\n",
            "max_pooling2d (MaxPooling2D) (None, 14, 14, 32)        0         \n",
            "_________________________________________________________________\n",
            "dropout (Dropout)            (None, 14, 14, 32)        0         \n",
            "_________________________________________________________________\n",
            "conv2d_1 (Conv2D)            (None, 14, 14, 64)        18496     \n",
            "_________________________________________________________________\n",
            "max_pooling2d_1 (MaxPooling2 (None, 7, 7, 64)          0         \n",
            "_________________________________________________________________\n",
            "dropout_1 (Dropout)          (None, 7, 7, 64)          0         \n",
            "_________________________________________________________________\n",
            "flatten (Flatten)            (None, 3136)              0         \n",
            "_________________________________________________________________\n",
            "dropout_2 (Dropout)          (None, 3136)              0         \n",
            "_________________________________________________________________\n",
            "dense (Dense)                (None, 100)               313700    \n",
            "_________________________________________________________________\n",
            "dense_1 (Dense)              (None, 10)                1010      \n",
            "=================================================================\n",
            "Total params: 333,526\n",
            "Trainable params: 333,526\n",
            "Non-trainable params: 0\n",
            "_________________________________________________________________\n"
          ],
          "name": "stdout"
        }
      ]
    },
    {
      "cell_type": "markdown",
      "metadata": {
        "id": "uWtMTlAkY_G7",
        "colab_type": "text"
      },
      "source": [
        "# Kompilera modellen"
      ]
    },
    {
      "cell_type": "code",
      "metadata": {
        "id": "VNEKBqxkZF_F",
        "colab_type": "code",
        "colab": {}
      },
      "source": [
        "\n",
        "model.compile(optimizer='adam',#stochastic gradient decent, fungerade bättre än 'rmsprop'\n",
        "              loss='categorical_crossentropy', #loss funktion categorical (inte sparse_categorical_crossentropy labels får inte plats)\n",
        "              metrics=['accuracy'])"
      ],
      "execution_count": 0,
      "outputs": []
    },
    {
      "cell_type": "markdown",
      "metadata": {
        "id": "wbvm1sCyZ-8p",
        "colab_type": "text"
      },
      "source": [
        "# Training model med 20 epoch"
      ]
    },
    {
      "cell_type": "code",
      "metadata": {
        "id": "BoFl2LqCaDHk",
        "colab_type": "code",
        "outputId": "ee39dbd0-6532-4966-95f7-cec5640579a3",
        "colab": {
          "base_uri": "https://localhost:8080/",
          "height": 728
        }
      },
      "source": [
        "history = model.fit(train_img, train_labels, epochs=20) #20 epochs"
      ],
      "execution_count": 10,
      "outputs": [
        {
          "output_type": "stream",
          "text": [
            "Train on 60000 samples\n",
            "Epoch 1/20\n",
            "60000/60000 [==============================] - 77s 1ms/sample - loss: 0.4951 - acc: 0.8190\n",
            "Epoch 2/20\n",
            "60000/60000 [==============================] - 77s 1ms/sample - loss: 0.3424 - acc: 0.8751\n",
            "Epoch 3/20\n",
            "60000/60000 [==============================] - 76s 1ms/sample - loss: 0.3039 - acc: 0.8881\n",
            "Epoch 4/20\n",
            "60000/60000 [==============================] - 76s 1ms/sample - loss: 0.2771 - acc: 0.8965\n",
            "Epoch 5/20\n",
            "60000/60000 [==============================] - 76s 1ms/sample - loss: 0.2610 - acc: 0.9021\n",
            "Epoch 6/20\n",
            "60000/60000 [==============================] - 76s 1ms/sample - loss: 0.2465 - acc: 0.9067\n",
            "Epoch 7/20\n",
            "60000/60000 [==============================] - 76s 1ms/sample - loss: 0.2367 - acc: 0.9135\n",
            "Epoch 8/20\n",
            "60000/60000 [==============================] - 77s 1ms/sample - loss: 0.2252 - acc: 0.9141\n",
            "Epoch 9/20\n",
            "60000/60000 [==============================] - 77s 1ms/sample - loss: 0.2188 - acc: 0.9182\n",
            "Epoch 10/20\n",
            "60000/60000 [==============================] - 77s 1ms/sample - loss: 0.2157 - acc: 0.9193\n",
            "Epoch 11/20\n",
            "60000/60000 [==============================] - 76s 1ms/sample - loss: 0.2063 - acc: 0.9231\n",
            "Epoch 12/20\n",
            "60000/60000 [==============================] - 77s 1ms/sample - loss: 0.2010 - acc: 0.9252\n",
            "Epoch 13/20\n",
            "60000/60000 [==============================] - 77s 1ms/sample - loss: 0.1960 - acc: 0.9251\n",
            "Epoch 14/20\n",
            "60000/60000 [==============================] - 76s 1ms/sample - loss: 0.1928 - acc: 0.9271\n",
            "Epoch 15/20\n",
            "60000/60000 [==============================] - 75s 1ms/sample - loss: 0.1877 - acc: 0.9281\n",
            "Epoch 16/20\n",
            "60000/60000 [==============================] - 76s 1ms/sample - loss: 0.1842 - acc: 0.9308\n",
            "Epoch 17/20\n",
            "60000/60000 [==============================] - 76s 1ms/sample - loss: 0.1806 - acc: 0.9308\n",
            "Epoch 18/20\n",
            "60000/60000 [==============================] - 76s 1ms/sample - loss: 0.1810 - acc: 0.9319\n",
            "Epoch 19/20\n",
            "60000/60000 [==============================] - 76s 1ms/sample - loss: 0.1782 - acc: 0.9326\n",
            "Epoch 20/20\n",
            "60000/60000 [==============================] - 76s 1ms/sample - loss: 0.1715 - acc: 0.9353\n"
          ],
          "name": "stdout"
        }
      ]
    },
    {
      "cell_type": "markdown",
      "metadata": {
        "id": "ShndU16GklWr",
        "colab_type": "text"
      },
      "source": [
        "# Använd test data på modellen för att jämföra med träningsdata"
      ]
    },
    {
      "cell_type": "markdown",
      "metadata": {
        "id": "NPVS7_1zErU0",
        "colab_type": "text"
      },
      "source": [
        "#Plot accuracy och loss av träningsdatan"
      ]
    },
    {
      "cell_type": "code",
      "metadata": {
        "id": "Jj_8DyOHEwXQ",
        "colab_type": "code",
        "outputId": "bb406ac6-31a9-446b-e963-e6073a3d7bec",
        "colab": {
          "base_uri": "https://localhost:8080/",
          "height": 294
        }
      },
      "source": [
        "import matplotlib.pyplot as plt\n",
        "\n",
        "history_dict = history.history\n",
        "loss_values = history_dict['loss']\n",
        "acc_values = history_dict['acc']\n",
        "epochs = range(1, len(acc_values) + 1)\n",
        "plt.plot(epochs, loss_values, 'bo', label='Training loss')\n",
        "plt.plot(epochs, acc_values, 'b', label='Accuracy')\n",
        "plt.title('Training data and accuracy')\n",
        "plt.xlabel('Epochs')\n",
        "plt.ylabel('Loss')\n",
        "plt.legend()\n",
        "plt.show()"
      ],
      "execution_count": 11,
      "outputs": [
        {
          "output_type": "display_data",
          "data": {
            "image/png": "[encoded data removed]",
            "text/plain": [
              "<Figure size 432x288 with 1 Axes>"
            ]
          },
          "metadata": {
            "tags": []
          }
        }
      ]
    },
    {
      "cell_type": "code",
      "metadata": {
        "id": "ZxYb6aGCkxnw",
        "colab_type": "code",
        "outputId": "25011cbf-369b-4d67-dd0c-5d4d21563212",
        "colab": {
          "base_uri": "https://localhost:8080/",
          "height": 728
        }
      },
      "source": [
        "history2 = model.fit(test_img, test_labels, epochs=20) "
      ],
      "execution_count": 12,
      "outputs": [
        {
          "output_type": "stream",
          "text": [
            "Train on 10000 samples\n",
            "Epoch 1/20\n",
            "10000/10000 [==============================] - 13s 1ms/sample - loss: 0.2778 - acc: 0.9041\n",
            "Epoch 2/20\n",
            "10000/10000 [==============================] - 13s 1ms/sample - loss: 0.2488 - acc: 0.9128\n",
            "Epoch 3/20\n",
            "10000/10000 [==============================] - 13s 1ms/sample - loss: 0.2179 - acc: 0.9212\n",
            "Epoch 4/20\n",
            "10000/10000 [==============================] - 13s 1ms/sample - loss: 0.2119 - acc: 0.9233\n",
            "Epoch 5/20\n",
            "10000/10000 [==============================] - 13s 1ms/sample - loss: 0.2009 - acc: 0.9237\n",
            "Epoch 6/20\n",
            "10000/10000 [==============================] - 13s 1ms/sample - loss: 0.1982 - acc: 0.9280\n",
            "Epoch 7/20\n",
            "10000/10000 [==============================] - 13s 1ms/sample - loss: 0.1802 - acc: 0.9327\n",
            "Epoch 8/20\n",
            "10000/10000 [==============================] - 13s 1ms/sample - loss: 0.1748 - acc: 0.9343\n",
            "Epoch 9/20\n",
            "10000/10000 [==============================] - 13s 1ms/sample - loss: 0.1678 - acc: 0.9364\n",
            "Epoch 10/20\n",
            "10000/10000 [==============================] - 13s 1ms/sample - loss: 0.1547 - acc: 0.9423\n",
            "Epoch 11/20\n",
            "10000/10000 [==============================] - 13s 1ms/sample - loss: 0.1590 - acc: 0.9416\n",
            "Epoch 12/20\n",
            "10000/10000 [==============================] - 13s 1ms/sample - loss: 0.1487 - acc: 0.9436\n",
            "Epoch 13/20\n",
            "10000/10000 [==============================] - 13s 1ms/sample - loss: 0.1416 - acc: 0.9471\n",
            "Epoch 14/20\n",
            "10000/10000 [==============================] - 13s 1ms/sample - loss: 0.1339 - acc: 0.9509\n",
            "Epoch 15/20\n",
            "10000/10000 [==============================] - 13s 1ms/sample - loss: 0.1329 - acc: 0.9512\n",
            "Epoch 16/20\n",
            "10000/10000 [==============================] - 13s 1ms/sample - loss: 0.1234 - acc: 0.9543\n",
            "Epoch 17/20\n",
            "10000/10000 [==============================] - 13s 1ms/sample - loss: 0.1301 - acc: 0.9517\n",
            "Epoch 18/20\n",
            "10000/10000 [==============================] - 13s 1ms/sample - loss: 0.1219 - acc: 0.9527\n",
            "Epoch 19/20\n",
            "10000/10000 [==============================] - 13s 1ms/sample - loss: 0.1165 - acc: 0.9562\n",
            "Epoch 20/20\n",
            "10000/10000 [==============================] - 13s 1ms/sample - loss: 0.1052 - acc: 0.9602\n"
          ],
          "name": "stdout"
        }
      ]
    },
    {
      "cell_type": "markdown",
      "metadata": {
        "id": "zY7M2hLaLUxp",
        "colab_type": "text"
      },
      "source": [
        "#Plot accuaracy och loss av testdatan"
      ]
    },
    {
      "cell_type": "code",
      "metadata": {
        "id": "F9wfp-jkLYYA",
        "colab_type": "code",
        "outputId": "6bec0392-eeba-4a3b-e315-f0713b3060d5",
        "colab": {
          "base_uri": "https://localhost:8080/",
          "height": 294
        }
      },
      "source": [
        "import matplotlib.pyplot as plt\n",
        "\n",
        "history_dict = history2.history\n",
        "test_loss_values = history_dict['loss']\n",
        "test_acc_values = history_dict['acc']\n",
        "epochs = range(1, len(test_acc_values) + 1)\n",
        "plt.plot(epochs, test_loss_values, 'ro', label='Test loss')\n",
        "plt.plot(epochs, test_acc_values, 'r', label='Test Accuracy')\n",
        "plt.title('Test data and accuracy')\n",
        "plt.xlabel('Epochs')\n",
        "plt.ylabel('Loss')\n",
        "plt.legend()\n",
        "plt.show()"
      ],
      "execution_count": 13,
      "outputs": [
        {
          "output_type": "display_data",
          "data": {
            "image/png": "[encoded data removed]",
            "text/plain": [
              "<Figure size 432x288 with 1 Axes>"
            ]
          },
          "metadata": {
            "tags": []
          }
        }
      ]
    },
    {
      "cell_type": "markdown",
      "metadata": {
        "id": "OusAbhfcTI3C",
        "colab_type": "text"
      },
      "source": [
        "#Evaluera och jämför training data med test data"
      ]
    },
    {
      "cell_type": "code",
      "metadata": {
        "colab_type": "code",
        "outputId": "e7d6e993-47a1-4388-b85a-fe55ec6d995a",
        "id": "UoGqBpNzF70C",
        "colab": {
          "base_uri": "https://localhost:8080/",
          "height": 190
        }
      },
      "source": [
        "train_loss, train_acc = model.evaluate(train_img, train_labels)\n",
        "test_loss, test_acc = model.evaluate(test_img, test_labels)\n",
        "print('\\nTrain noggrannhet: ', round(train_acc*100, 2),'%')\n",
        "print('\\nTest noggrannhet: ', round(test_acc*100, 2),'%')\n",
        "\n",
        "print('\\nTrain loss: ', round(train_loss, 2),'%')\n",
        "print('\\nTest loss: ', round(test_loss, 2),'%')\n"
      ],
      "execution_count": 14,
      "outputs": [
        {
          "output_type": "stream",
          "text": [
            "60000/60000 [==============================] - 19s 320us/sample - loss: 0.1498 - acc: 0.9433\n",
            "10000/10000 [==============================] - 3s 314us/sample - loss: 0.0445 - acc: 0.9869\n",
            "\n",
            "Train noggrannhet:  94.33 %\n",
            "\n",
            "Test noggrannhet:  98.69 %\n",
            "\n",
            "Train loss:  0.15 %\n",
            "\n",
            "Test loss:  0.04 %\n"
          ],
          "name": "stdout"
        }
      ]
    }
  ]
}