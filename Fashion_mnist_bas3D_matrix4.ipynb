{
  "nbformat": 4,
  "nbformat_minor": 0,
  "metadata": {
    "colab": {
      "name": "Fashion_mnist_bas3D_matrix4.ipynb",
      "provenance": [],
      "collapsed_sections": [],
      "include_colab_link": true
    },
    "kernelspec": {
      "name": "python3",
      "display_name": "Python 3"
    }
  },
  "cells": [
    {
      "cell_type": "markdown",
      "metadata": {
        "id": "view-in-github",
        "colab_type": "text"
      },
      "source": [
        "<a href=\"https://colab.research.google.com/github/moomonkey/tf_lab/blob/master/Fashion_mnist_bas3D_matrix4.ipynb\" target=\"_parent\"><img src=\"https://colab.research.google.com/assets/colab-badge.svg\" alt=\"Open In Colab\"/></a>"
      ]
    },
    {
      "cell_type": "markdown",
      "metadata": {
        "id": "9UUZbnatoytc",
        "colab_type": "text"
      },
      "source": [
        "# Denna kod använder keras och tf, med Fashion-mnist databas\n",
        "\n",
        "# Denna kod är baserad på dokumentation i Francois Chollets \"Deep learning with Python\", tensorflow API, docs, och tutorials: https://www.tensorflow.org/tutorials/keras/basic_classification, Margaret Maynard-Reids https://medium.com/tensorflow/hello-deep-learning-fashion-mnist-with-keras-50fcff8cd74a, och Keras dokumentation, https://keras.io/examples/mnist_cnn/. Visualisering är inkluderad för att verifiera koden."
      ]
    },
    {
      "cell_type": "markdown",
      "metadata": {
        "id": "me5FZHjdX_K0",
        "colab_type": "text"
      },
      "source": [
        "# Imports"
      ]
    },
    {
      "cell_type": "code",
      "metadata": {
        "id": "1lcC8RBSrBXa",
        "colab_type": "code",
        "colab": {}
      },
      "source": [
        "import tensorflow as tf\n",
        "from tensorflow import keras\n",
        "import numpy as np\n",
        "import matplotlib.pyplot as plt"
      ],
      "execution_count": 0,
      "outputs": []
    },
    {
      "cell_type": "markdown",
      "metadata": {
        "id": "k1d1R4zRr547",
        "colab_type": "text"
      },
      "source": [
        "# Importera dataset Fashion-mnist, vilket har 10 kategorier, i träningsdata, träningslabel för att träna modellen, testdata och testlabels för att testa modellen"
      ]
    },
    {
      "cell_type": "code",
      "metadata": {
        "id": "wp8OzUiRsbzy",
        "colab_type": "code",
        "colab": {}
      },
      "source": [
        "fashion_mnist = tf.keras.datasets.fashion_mnist\n",
        "(train_img, train_labels), (test_img, test_labels) = tf.keras.datasets.fashion_mnist.load_data()"
      ],
      "execution_count": 0,
      "outputs": []
    },
    {
      "cell_type": "markdown",
      "metadata": {
        "id": "2eurV1qTynVO",
        "colab_type": "text"
      },
      "source": [
        "# Se träningsdata"
      ]
    },
    {
      "cell_type": "code",
      "metadata": {
        "id": "HeAW2tGIy2tt",
        "colab_type": "code",
        "outputId": "a7614b08-a85d-4a6b-8687-fa5809ef1d83",
        "colab": {
          "base_uri": "https://localhost:8080/",
          "height": 33
        }
      },
      "source": [
        "print(\"Träningsbilder: \", train_img.shape, \"Träningsetiketter: \", train_labels.shape) #består av 60000 exempel i 28*28 pixelformat"
      ],
      "execution_count": 20,
      "outputs": [
        {
          "output_type": "stream",
          "text": [
            "Träningsbilder:  (60000, 28, 28) Träningsetiketter:  (60000,)\n"
          ],
          "name": "stdout"
        }
      ]
    },
    {
      "cell_type": "markdown",
      "metadata": {
        "id": "sUKSApx95epM",
        "colab_type": "text"
      },
      "source": [
        "# Se testdatan"
      ]
    },
    {
      "cell_type": "code",
      "metadata": {
        "id": "DFAY8o_R5nrI",
        "colab_type": "code",
        "outputId": "1d5e5990-6b6c-4b66-da17-d2baa5653626",
        "colab": {
          "base_uri": "https://localhost:8080/",
          "height": 33
        }
      },
      "source": [
        "print(\"Testbilder: \", test_img.shape, \"Testetiketter: \", test_labels.shape) #består av 10000 exempel i 28*28 format"
      ],
      "execution_count": 21,
      "outputs": [
        {
          "output_type": "stream",
          "text": [
            "Testbilder:  (10000, 28, 28) Testetiketter:  (10000,)\n"
          ],
          "name": "stdout"
        }
      ]
    },
    {
      "cell_type": "markdown",
      "metadata": {
        "id": "Sz3cIhKQ0SRG",
        "colab_type": "text"
      },
      "source": [
        "# Se första bilden i datasetet och pixelvärdet"
      ]
    },
    {
      "cell_type": "code",
      "metadata": {
        "id": "YZzszkEv0ej_",
        "colab_type": "code",
        "outputId": "3c574805-a73e-4c3e-8e35-e7ce50499df1",
        "colab": {
          "base_uri": "https://localhost:8080/",
          "height": 285
        }
      },
      "source": [
        "print(plt.imshow(train_img[0]), plt.colorbar())"
      ],
      "execution_count": 22,
      "outputs": [
        {
          "output_type": "stream",
          "text": [
            "AxesImage(54,36;267.84x217.44) <matplotlib.colorbar.Colorbar object at 0x7fa2ece2e438>\n"
          ],
          "name": "stdout"
        },
        {
          "output_type": "display_data",
          "data": {
            "image/png": "[encoded data removed]",
            "text/plain": [
              "<Figure size 432x288 with 2 Axes>"
            ]
          },
          "metadata": {
            "tags": []
          }
        }
      ]
    },
    {
      "cell_type": "markdown",
      "metadata": {
        "id": "XdBoMwmf3ri2",
        "colab_type": "text"
      },
      "source": [
        "# Skapa etiketter för datasetets kategorier"
      ]
    },
    {
      "cell_type": "code",
      "metadata": {
        "id": "yjJGUZI-33dy",
        "colab_type": "code",
        "colab": {}
      },
      "source": [
        "fashion_cat = ['T-shirt', 'Trousers', 'Pullover', 'Dress', 'Coat', 'Sandal','Shirt', 'Sneaker', 'Bag', 'Boot']"
      ],
      "execution_count": 0,
      "outputs": []
    },
    {
      "cell_type": "markdown",
      "metadata": {
        "id": "-Z0EkEX4rePq",
        "colab_type": "text"
      },
      "source": [
        "#Förbered datan. Normalize data"
      ]
    },
    {
      "cell_type": "code",
      "metadata": {
        "id": "RTDPvw3Yrj1R",
        "colab_type": "code",
        "colab": {
          "base_uri": "https://localhost:8080/",
          "height": 50
        },
        "outputId": "ae72d9b9-afbc-4c47-f9ce-d69dc274638c"
      },
      "source": [
        "train_img = train_img.astype('float32') / 255 #Normalisera pixeldimension från 0-255 till 0-1\n",
        "test_img = test_img.astype('float32') / 255\n",
        "import pandas as pd\n",
        "train_img = train_img.reshape(-1,28,28,1)\n",
        "print(train_img.shape)\n",
        "test_img = test_img.reshape(-1,28,28,1)\n",
        "print(test_img.shape)"
      ],
      "execution_count": 38,
      "outputs": [
        {
          "output_type": "stream",
          "text": [
            "(60000, 28, 28, 1)\n",
            "(10000, 28, 28, 1)\n"
          ],
          "name": "stdout"
        }
      ]
    },
    {
      "cell_type": "markdown",
      "metadata": {
        "id": "5iQ3cMknmM9Q",
        "colab_type": "text"
      },
      "source": [
        "Förbered encode labels"
      ]
    },
    {
      "cell_type": "code",
      "metadata": {
        "id": "GoawSESAmWVp",
        "colab_type": "code",
        "colab": {}
      },
      "source": [
        "from keras.utils import to_categorical\n",
        "train_labels = to_categorical(train_labels)\n",
        "test_labels = to_categorical(test_labels)"
      ],
      "execution_count": 0,
      "outputs": []
    },
    {
      "cell_type": "code",
      "metadata": {
        "id": "PwvU3ZE9mX13",
        "colab_type": "code",
        "colab": {
          "base_uri": "https://localhost:8080/",
          "height": 50
        },
        "outputId": "4d1a302d-1967-40ff-8b49-5f690134ef9b"
      },
      "source": [
        "print(train_labels.shape) #se output\n",
        "print(test_labels.shape)"
      ],
      "execution_count": 40,
      "outputs": [
        {
          "output_type": "stream",
          "text": [
            "(60000, 10)\n",
            "(10000, 10)\n"
          ],
          "name": "stdout"
        }
      ]
    },
    {
      "cell_type": "markdown",
      "metadata": {
        "id": "vDxyRrgzS23v",
        "colab_type": "text"
      },
      "source": [
        "# Definiera lager i modell"
      ]
    },
    {
      "cell_type": "code",
      "metadata": {
        "id": "RslQhLTIS9jl",
        "colab_type": "code",
        "outputId": "90e18be1-1cc0-402f-b216-9a6fd76141d4",
        "colab": {
          "base_uri": "https://localhost:8080/",
          "height": 635
        }
      },
      "source": [
        "model = tf.keras.Sequential()\n",
        "#Definiera input shape i första lagret\n",
        "model.add(tf.keras.layers.Conv2D(filters=32, kernel_size=2, padding='same', strides=(1,1), activation='relu', input_shape=(28, 28, 1))) #conv2D spatial conv av bilder\n",
        "model.add(tf.keras.layers.MaxPooling2D(pool_size=2))#storlek på poolingfönster\n",
        "model.add(tf.keras.layers.Dropout(0.25)) #drop-out i varje lager för att motverka loss\n",
        "#lager 2\n",
        "model.add(tf.keras.layers.Conv2D(filters=32, kernel_size=2, padding='same', strides=(1,1), activation='relu')) #formen på slides blir (1,28,28,10)\n",
        "model.add(tf.keras.layers.MaxPooling2D(pool_size=2))\n",
        "model.add(tf.keras.layers.Dropout(0.25))\n",
        "#lager 3\n",
        "model.add(tf.keras.layers.Conv2D(filters=32, kernel_size=2, padding='same', strides=(1,1), activation='relu'))\n",
        "model.add(tf.keras.layers.MaxPooling2D(pool_size=2))\n",
        "model.add(tf.keras.layers.Dropout(0.25))\n",
        "#lager 4\n",
        "model.add(tf.keras.layers.Flatten())\n",
        "model.add(tf.keras.layers.Dense(100, activation='relu')) #Dense med 100 neurons\n",
        "model.add(tf.keras.layers.Dropout(0.25))\n",
        "model.add(tf.keras.layers.Dense(100, activation='relu')) #Dense med 100 neurons\n",
        "model.add(tf.keras.layers.Dropout(0.25))\n",
        "model.add(tf.keras.layers.Dense(10, activation= 'softmax'))#probabilty score (10 neurons ut) till kategorierna\n",
        "\n",
        "model.summary()"
      ],
      "execution_count": 44,
      "outputs": [
        {
          "output_type": "stream",
          "text": [
            "Model: \"sequential_6\"\n",
            "_________________________________________________________________\n",
            "Layer (type)                 Output Shape              Param #   \n",
            "=================================================================\n",
            "conv2d_13 (Conv2D)           (None, 28, 28, 32)        160       \n",
            "_________________________________________________________________\n",
            "max_pooling2d_12 (MaxPooling (None, 14, 14, 32)        0         \n",
            "_________________________________________________________________\n",
            "dropout_6 (Dropout)          (None, 14, 14, 32)        0         \n",
            "_________________________________________________________________\n",
            "conv2d_14 (Conv2D)           (None, 14, 14, 32)        4128      \n",
            "_________________________________________________________________\n",
            "max_pooling2d_13 (MaxPooling (None, 7, 7, 32)          0         \n",
            "_________________________________________________________________\n",
            "dropout_7 (Dropout)          (None, 7, 7, 32)          0         \n",
            "_________________________________________________________________\n",
            "conv2d_15 (Conv2D)           (None, 7, 7, 32)          4128      \n",
            "_________________________________________________________________\n",
            "max_pooling2d_14 (MaxPooling (None, 3, 3, 32)          0         \n",
            "_________________________________________________________________\n",
            "dropout_8 (Dropout)          (None, 3, 3, 32)          0         \n",
            "_________________________________________________________________\n",
            "flatten_3 (Flatten)          (None, 288)               0         \n",
            "_________________________________________________________________\n",
            "dense_6 (Dense)              (None, 100)               28900     \n",
            "_________________________________________________________________\n",
            "dropout_9 (Dropout)          (None, 100)               0         \n",
            "_________________________________________________________________\n",
            "dense_7 (Dense)              (None, 100)               10100     \n",
            "_________________________________________________________________\n",
            "dropout_10 (Dropout)         (None, 100)               0         \n",
            "_________________________________________________________________\n",
            "dense_8 (Dense)              (None, 10)                1010      \n",
            "=================================================================\n",
            "Total params: 48,426\n",
            "Trainable params: 48,426\n",
            "Non-trainable params: 0\n",
            "_________________________________________________________________\n"
          ],
          "name": "stdout"
        }
      ]
    },
    {
      "cell_type": "markdown",
      "metadata": {
        "id": "uWtMTlAkY_G7",
        "colab_type": "text"
      },
      "source": [
        "# Kompilera modellen"
      ]
    },
    {
      "cell_type": "code",
      "metadata": {
        "id": "VNEKBqxkZF_F",
        "colab_type": "code",
        "colab": {}
      },
      "source": [
        "\n",
        "model.compile(optimizer='Adam',#(men Adam optimizer fungerar bättre än sgd (Standard stochastic gradient descent and momentum optimizer)\n",
        "              loss='categorical_crossentropy', #loss funktion\n",
        "              metrics=['accuracy'])"
      ],
      "execution_count": 0,
      "outputs": []
    },
    {
      "cell_type": "markdown",
      "metadata": {
        "id": "wbvm1sCyZ-8p",
        "colab_type": "text"
      },
      "source": [
        "# Training model med epoch (iteration)"
      ]
    },
    {
      "cell_type": "code",
      "metadata": {
        "id": "BoFl2LqCaDHk",
        "colab_type": "code",
        "outputId": "c37e933a-6695-40cf-e161-b323c347ef57",
        "colab": {
          "base_uri": "https://localhost:8080/",
          "height": 683
        }
      },
      "source": [
        "model.fit(train_img, train_labels, epochs=20)"
      ],
      "execution_count": 47,
      "outputs": [
        {
          "output_type": "stream",
          "text": [
            "Epoch 1/20\n",
            "60000/60000 [==============================] - 52s 871us/sample - loss: 0.8005 - acc: 0.6896\n",
            "Epoch 2/20\n",
            "60000/60000 [==============================] - 52s 866us/sample - loss: 0.5349 - acc: 0.8016\n",
            "Epoch 3/20\n",
            "60000/60000 [==============================] - 53s 876us/sample - loss: 0.4693 - acc: 0.8269\n",
            "Epoch 4/20\n",
            "60000/60000 [==============================] - 53s 880us/sample - loss: 0.4325 - acc: 0.8421\n",
            "Epoch 5/20\n",
            "60000/60000 [==============================] - 53s 876us/sample - loss: 0.4072 - acc: 0.8518\n",
            "Epoch 6/20\n",
            "60000/60000 [==============================] - 52s 869us/sample - loss: 0.3907 - acc: 0.8562\n",
            "Epoch 7/20\n",
            "60000/60000 [==============================] - 52s 865us/sample - loss: 0.3783 - acc: 0.8633\n",
            "Epoch 8/20\n",
            "60000/60000 [==============================] - 51s 854us/sample - loss: 0.3625 - acc: 0.8670\n",
            "Epoch 9/20\n",
            "60000/60000 [==============================] - 51s 855us/sample - loss: 0.3570 - acc: 0.8692\n",
            "Epoch 10/20\n",
            "60000/60000 [==============================] - 51s 849us/sample - loss: 0.3499 - acc: 0.8734\n",
            "Epoch 11/20\n",
            "60000/60000 [==============================] - 51s 852us/sample - loss: 0.3441 - acc: 0.8734\n",
            "Epoch 12/20\n",
            "60000/60000 [==============================] - 51s 848us/sample - loss: 0.3406 - acc: 0.8760\n",
            "Epoch 13/20\n",
            "60000/60000 [==============================] - 51s 847us/sample - loss: 0.3382 - acc: 0.8776\n",
            "Epoch 14/20\n",
            "60000/60000 [==============================] - 50s 841us/sample - loss: 0.3309 - acc: 0.8786\n",
            "Epoch 15/20\n",
            "60000/60000 [==============================] - 51s 846us/sample - loss: 0.3284 - acc: 0.8794\n",
            "Epoch 16/20\n",
            "60000/60000 [==============================] - 51s 847us/sample - loss: 0.3264 - acc: 0.8805\n",
            "Epoch 17/20\n",
            "60000/60000 [==============================] - 51s 852us/sample - loss: 0.3232 - acc: 0.8824\n",
            "Epoch 18/20\n",
            "60000/60000 [==============================] - 51s 848us/sample - loss: 0.3219 - acc: 0.8819\n",
            "Epoch 19/20\n",
            "60000/60000 [==============================] - 51s 848us/sample - loss: 0.3195 - acc: 0.8824\n",
            "Epoch 20/20\n",
            "60000/60000 [==============================] - 51s 846us/sample - loss: 0.3177 - acc: 0.8843\n"
          ],
          "name": "stdout"
        },
        {
          "output_type": "execute_result",
          "data": {
            "text/plain": [
              "<tensorflow.python.keras.callbacks.History at 0x7fa2eb456d68>"
            ]
          },
          "metadata": {
            "tags": []
          },
          "execution_count": 47
        }
      ]
    },
    {
      "cell_type": "markdown",
      "metadata": {
        "id": "ShndU16GklWr",
        "colab_type": "text"
      },
      "source": [
        "# Använd test data på modellen för att jämföra med träningsdata"
      ]
    },
    {
      "cell_type": "code",
      "metadata": {
        "id": "ZxYb6aGCkxnw",
        "colab_type": "code",
        "outputId": "bf93d688-1ecc-4700-ad8c-85782d936efc",
        "colab": {
          "base_uri": "https://localhost:8080/",
          "height": 683
        }
      },
      "source": [
        "model.fit(test_img, test_labels, epochs=20)"
      ],
      "execution_count": 48,
      "outputs": [
        {
          "output_type": "stream",
          "text": [
            "Epoch 1/20\n",
            "10000/10000 [==============================] - 8s 844us/sample - loss: 0.3596 - acc: 0.8747\n",
            "Epoch 2/20\n",
            "10000/10000 [==============================] - 8s 845us/sample - loss: 0.3356 - acc: 0.8781\n",
            "Epoch 3/20\n",
            "10000/10000 [==============================] - 8s 848us/sample - loss: 0.3376 - acc: 0.8764\n",
            "Epoch 4/20\n",
            "10000/10000 [==============================] - 9s 850us/sample - loss: 0.3300 - acc: 0.8802\n",
            "Epoch 5/20\n",
            "10000/10000 [==============================] - 8s 843us/sample - loss: 0.3216 - acc: 0.8834\n",
            "Epoch 6/20\n",
            "10000/10000 [==============================] - 8s 846us/sample - loss: 0.3271 - acc: 0.8822\n",
            "Epoch 7/20\n",
            "10000/10000 [==============================] - 8s 845us/sample - loss: 0.3170 - acc: 0.8833\n",
            "Epoch 8/20\n",
            "10000/10000 [==============================] - 8s 850us/sample - loss: 0.3140 - acc: 0.8831\n",
            "Epoch 9/20\n",
            "10000/10000 [==============================] - 8s 848us/sample - loss: 0.3073 - acc: 0.8897\n",
            "Epoch 10/20\n",
            "10000/10000 [==============================] - 9s 852us/sample - loss: 0.3157 - acc: 0.8821\n",
            "Epoch 11/20\n",
            "10000/10000 [==============================] - 9s 865us/sample - loss: 0.3057 - acc: 0.8852\n",
            "Epoch 12/20\n",
            "10000/10000 [==============================] - 8s 845us/sample - loss: 0.3078 - acc: 0.8886\n",
            "Epoch 13/20\n",
            "10000/10000 [==============================] - 8s 836us/sample - loss: 0.3073 - acc: 0.8867\n",
            "Epoch 14/20\n",
            "10000/10000 [==============================] - 8s 845us/sample - loss: 0.3095 - acc: 0.8849\n",
            "Epoch 15/20\n",
            "10000/10000 [==============================] - 8s 842us/sample - loss: 0.3067 - acc: 0.8869\n",
            "Epoch 16/20\n",
            "10000/10000 [==============================] - 8s 842us/sample - loss: 0.3053 - acc: 0.8860\n",
            "Epoch 17/20\n",
            "10000/10000 [==============================] - 8s 837us/sample - loss: 0.2961 - acc: 0.8882\n",
            "Epoch 18/20\n",
            "10000/10000 [==============================] - 8s 843us/sample - loss: 0.3004 - acc: 0.8902\n",
            "Epoch 19/20\n",
            "10000/10000 [==============================] - 8s 844us/sample - loss: 0.2984 - acc: 0.8912\n",
            "Epoch 20/20\n",
            "10000/10000 [==============================] - 8s 838us/sample - loss: 0.2859 - acc: 0.8931\n"
          ],
          "name": "stdout"
        },
        {
          "output_type": "execute_result",
          "data": {
            "text/plain": [
              "<tensorflow.python.keras.callbacks.History at 0x7fa2eb3a5b70>"
            ]
          },
          "metadata": {
            "tags": []
          },
          "execution_count": 48
        }
      ]
    },
    {
      "cell_type": "markdown",
      "metadata": {
        "id": "OusAbhfcTI3C",
        "colab_type": "text"
      },
      "source": [
        "#Evaluera och jämför training data med test data"
      ]
    },
    {
      "cell_type": "code",
      "metadata": {
        "id": "UkDa6l6ZTOL8",
        "colab_type": "code",
        "outputId": "57a87bf5-5a98-43a4-c8b1-976978a9db76",
        "colab": {
          "base_uri": "https://localhost:8080/",
          "height": 147
        }
      },
      "source": [
        "train_loss, train_acc = model.evaluate(train_img, train_labels)\n",
        "test_loss, test_acc = model.evaluate(test_img, test_labels)\n",
        "print('\\nTrain noggrannhet: ', int(train_acc*100),'%', '\\nTrain loss', train_loss)\n",
        "print('\\nTest noggrannhet: ', int(test_acc*100),'%', '\\nTest loss', test_loss)"
      ],
      "execution_count": 49,
      "outputs": [
        {
          "output_type": "stream",
          "text": [
            "60000/60000 [==============================] - 16s 260us/sample - loss: 0.2302 - acc: 0.9120\n",
            "10000/10000 [==============================] - 3s 261us/sample - loss: 0.1840 - acc: 0.9286\n",
            "\n",
            "Train noggrannhet:  91 % \n",
            "Train loss 0.23016058892210325\n",
            "\n",
            "Test noggrannhet:  92 % \n",
            "Test loss 0.18399130108356476\n"
          ],
          "name": "stdout"
        }
      ]
    },
    {
      "cell_type": "markdown",
      "metadata": {
        "id": "4UkF5xvym01s",
        "colab_type": "text"
      },
      "source": [
        "# Resultat av evaluering: Bäst testresultat av klassificering"
      ]
    },
    {
      "cell_type": "code",
      "metadata": {
        "id": "IPn6SmY0cS69",
        "colab_type": "code",
        "outputId": "c3a04fb8-58e1-4213-a907-68ef4f24e45e",
        "colab": {
          "base_uri": "https://localhost:8080/",
          "height": 50
        }
      },
      "source": [
        "# Evaluate the model on test set\n",
        "score = model.evaluate(test_img, test_labels, verbose=0)\n",
        "# Print test accuracy\n",
        "print('\\n', 'Test accuracy:', score[1])"
      ],
      "execution_count": 31,
      "outputs": [
        {
          "output_type": "stream",
          "text": [
            "\n",
            " Test accuracy: 0.753\n"
          ],
          "name": "stdout"
        }
      ]
    }
  ]
}