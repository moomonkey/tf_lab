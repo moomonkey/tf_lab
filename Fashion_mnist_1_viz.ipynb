{
  "nbformat": 4,
  "nbformat_minor": 0,
  "metadata": {
    "colab": {
      "name": "Fashion_mnist_1-viz.ipynb",
      "provenance": [],
      "collapsed_sections": [],
      "include_colab_link": true
    },
    "kernelspec": {
      "name": "python3",
      "display_name": "Python 3"
    }
  },
  "cells": [
    {
      "cell_type": "markdown",
      "metadata": {
        "id": "view-in-github",
        "colab_type": "text"
      },
      "source": [
        "<a href=\"https://colab.research.google.com/github/moomonkey/tf_lab/blob/master/Fashion_mnist_1_viz.ipynb\" target=\"_parent\"><img src=\"https://colab.research.google.com/assets/colab-badge.svg\" alt=\"Open In Colab\"/></a>"
      ]
    },
    {
      "cell_type": "markdown",
      "metadata": {
        "id": "9UUZbnatoytc",
        "colab_type": "text"
      },
      "source": [
        "# Denna kod använder tensorflow, keras och Fashion-mnist databas\n",
        "\n",
        "# Dokumentation kommer från Francois Chollets \"Deep learning with Python\", tensorflow API, docs, och tutorials: https://www.tensorflow.org/tutorials/keras/basic_classification, Margaret Maynard-Reids https://medium.com/tensorflow/hello-deep-learning-fashion-mnist-with-keras-50fcff8cd74a, och Keras dokumentation, https://keras.io/examples/mnist_cnn/. Visualisering är inkluderad för att verifiera koden."
      ]
    },
    {
      "cell_type": "markdown",
      "metadata": {
        "id": "me5FZHjdX_K0",
        "colab_type": "text"
      },
      "source": [
        "# Imports"
      ]
    },
    {
      "cell_type": "code",
      "metadata": {
        "id": "1lcC8RBSrBXa",
        "colab_type": "code",
        "colab": {}
      },
      "source": [
        "import tensorflow as tf\n",
        "from tensorflow import keras\n",
        "import numpy as np\n",
        "import matplotlib.pyplot as plt\n",
        "%matplotlib inline"
      ],
      "execution_count": 0,
      "outputs": []
    },
    {
      "cell_type": "markdown",
      "metadata": {
        "id": "k1d1R4zRr547",
        "colab_type": "text"
      },
      "source": [
        "# Importera dataset Fashion-mnist"
      ]
    },
    {
      "cell_type": "code",
      "metadata": {
        "id": "wp8OzUiRsbzy",
        "colab_type": "code",
        "colab": {}
      },
      "source": [
        "fashion_mnist = tf.keras.datasets.fashion_mnist\n",
        "(train_img, train_labels), (test_img, test_labels) = tf.keras.datasets.fashion_mnist.load_data()"
      ],
      "execution_count": 0,
      "outputs": []
    },
    {
      "cell_type": "markdown",
      "metadata": {
        "id": "2eurV1qTynVO",
        "colab_type": "text"
      },
      "source": [
        "# Se träningsdata"
      ]
    },
    {
      "cell_type": "code",
      "metadata": {
        "id": "HeAW2tGIy2tt",
        "colab_type": "code",
        "outputId": "ed4f87f0-dd29-41e0-f164-68146b66d14d",
        "colab": {
          "base_uri": "https://localhost:8080/",
          "height": 317
        }
      },
      "source": [
        "#Se träningsdata\n",
        "print(\"Träningsbilder: \", train_img.shape, \"Träningsetiketter: \", train_labels.shape) #består av 60000 exempel i 28*28 pixelformat\n",
        "#Se testdata\n",
        "print(\"Testbilder: \", test_img.shape, \"Testetiketter: \", test_labels.shape) #består av 10000 exempel i 28*28 format\n",
        "#Se bild från träningsdata\n",
        "print(plt.imshow(train_img[0]), plt.colorbar())"
      ],
      "execution_count": 64,
      "outputs": [
        {
          "output_type": "stream",
          "text": [
            "Träningsbilder:  (60000, 28, 28) Träningsetiketter:  (60000,)\n",
            "Testbilder:  (10000, 28, 28) Testetiketter:  (10000,)\n",
            "AxesImage(54,36;267.84x217.44) <matplotlib.colorbar.Colorbar object at 0x7f0e87c2d940>\n"
          ],
          "name": "stdout"
        },
        {
          "output_type": "display_data",
          "data": {
            "image/png": "[encoded data removed]",
            "text/plain": [
              "<Figure size 432x288 with 2 Axes>"
            ]
          },
          "metadata": {
            "tags": []
          }
        }
      ]
    },
    {
      "cell_type": "markdown",
      "metadata": {
        "id": "XdBoMwmf3ri2",
        "colab_type": "text"
      },
      "source": [
        "# Skapa etiketter för datasetets kategorier"
      ]
    },
    {
      "cell_type": "code",
      "metadata": {
        "id": "yjJGUZI-33dy",
        "colab_type": "code",
        "colab": {}
      },
      "source": [
        "fashion_cat = ['T-shirt', 'Trousers', 'Pullover', 'Dress', 'Coat', 'Sandal','Shirt', 'Sneaker', 'Bag', 'Boot']"
      ],
      "execution_count": 0,
      "outputs": []
    },
    {
      "cell_type": "markdown",
      "metadata": {
        "id": "5XxajXNZY78w",
        "colab_type": "text"
      },
      "source": [
        "#Bilder från träningsset med kategorier"
      ]
    },
    {
      "cell_type": "code",
      "metadata": {
        "id": "oZPUZm9L6p6-",
        "colab_type": "code",
        "outputId": "9138a788-39a8-49fe-e012-241073378004",
        "colab": {
          "base_uri": "https://localhost:8080/",
          "height": 192
        }
      },
      "source": [
        "plt.figure(figsize=(6,3)) #utan prediction\n",
        "for i in range(10):\n",
        "    plt.subplot(2,5,i+1)\n",
        "    plt.xticks([])\n",
        "    plt.yticks([])\n",
        "    plt.grid(False)\n",
        "    plt.imshow(train_img[i], cmap=plt.cm.binary)\n",
        "    plt.xlabel(fashion_cat[i-1])\n",
        "plt.show()"
      ],
      "execution_count": 66,
      "outputs": [
        {
          "output_type": "display_data",
          "data": {
            "image/png": "[encoded data removed]",
            "text/plain": [
              "<Figure size 432x216 with 10 Axes>"
            ]
          },
          "metadata": {
            "tags": []
          }
        }
      ]
    },
    {
      "cell_type": "markdown",
      "metadata": {
        "id": "-Z0EkEX4rePq",
        "colab_type": "text"
      },
      "source": [
        "#Förbered data. Normalize data"
      ]
    },
    {
      "cell_type": "code",
      "metadata": {
        "id": "RTDPvw3Yrj1R",
        "colab_type": "code",
        "outputId": "3f13f902-dcf4-49ee-e24a-743de72a9b8f",
        "colab": {
          "base_uri": "https://localhost:8080/",
          "height": 86
        }
      },
      "source": [
        "# Normalisera data\n",
        "import pandas as pd\n",
        "train_img = train_img.reshape(-1,28,28,1)\n",
        "print(train_img.shape)\n",
        "test_img = test_img.reshape(-1,28,28,1)\n",
        "print(test_img.shape)\n",
        "#Normalisera pixeldimension från 0-255 till 0-1\n",
        "train_img = train_img.astype('float32') / 255 \n",
        "test_img = test_img.astype('float32') / 255\n",
        "\n",
        "# encode etiketter\n",
        "from keras.utils import to_categorical\n",
        "train_labels = to_categorical(train_labels)\n",
        "test_labels = to_categorical(test_labels)\n",
        "print(train_labels.shape) #se output\n",
        "print(test_labels.shape)"
      ],
      "execution_count": 67,
      "outputs": [
        {
          "output_type": "stream",
          "text": [
            "(60000, 28, 28, 1)\n",
            "(10000, 28, 28, 1)\n",
            "(60000, 10)\n",
            "(10000, 10)\n"
          ],
          "name": "stdout"
        }
      ]
    },
    {
      "cell_type": "markdown",
      "metadata": {
        "id": "vDxyRrgzS23v",
        "colab_type": "text"
      },
      "source": [
        "# Definiera modell. 2 conv lager med pooling. Ingen padding + ingen dropouts"
      ]
    },
    {
      "cell_type": "code",
      "metadata": {
        "id": "RslQhLTIS9jl",
        "colab_type": "code",
        "outputId": "0dfea750-6f4c-435a-a9c9-38f750b5f761",
        "colab": {
          "base_uri": "https://localhost:8080/",
          "height": 398
        }
      },
      "source": [
        "model = tf.keras.Sequential()\n",
        "#Lager ett med Conv2d med 32 channels och 3X3 filter, max-pooling. Definiera input shape i första lagret\n",
        "model.add(tf.keras.layers.Conv2D(32, (3,3), padding='valid', activation='relu', input_shape=(28, 28, 1))) #conv2D spatial conv av bilder\n",
        "model.add(tf.keras.layers.MaxPooling2D(pool_size=2))#storlek på poolingfönster, downsample the feature map\n",
        "#lager två med pooling\n",
        "model.add(tf.keras.layers.Conv2D(64, (3,3), padding='valid', activation='relu')) #Conv2d med 64 channels och 3X3 filter\n",
        "model.add(tf.keras.layers.MaxPooling2D(pool_size=2)) #downsample the feature map\n",
        "#Flatten\n",
        "model.add(tf.keras.layers.Flatten()) # från 3D till 1D\n",
        "model.add(tf.keras.layers.Dense(100, activation='relu')) #Dense är 100 neurons \"fully connected\" classifier network\n",
        "model.add(tf.keras.layers.Dense(10, activation= 'softmax'))#probabilty score (10 neurons) ges till kategorierna\n",
        "\n",
        "model.summary()"
      ],
      "execution_count": 68,
      "outputs": [
        {
          "output_type": "stream",
          "text": [
            "Model: \"sequential_4\"\n",
            "_________________________________________________________________\n",
            "Layer (type)                 Output Shape              Param #   \n",
            "=================================================================\n",
            "conv2d_4 (Conv2D)            (None, 26, 26, 32)        320       \n",
            "_________________________________________________________________\n",
            "max_pooling2d_4 (MaxPooling2 (None, 13, 13, 32)        0         \n",
            "_________________________________________________________________\n",
            "conv2d_5 (Conv2D)            (None, 11, 11, 64)        18496     \n",
            "_________________________________________________________________\n",
            "max_pooling2d_5 (MaxPooling2 (None, 5, 5, 64)          0         \n",
            "_________________________________________________________________\n",
            "flatten_2 (Flatten)          (None, 1600)              0         \n",
            "_________________________________________________________________\n",
            "dense_4 (Dense)              (None, 100)               160100    \n",
            "_________________________________________________________________\n",
            "dense_5 (Dense)              (None, 10)                1010      \n",
            "=================================================================\n",
            "Total params: 179,926\n",
            "Trainable params: 179,926\n",
            "Non-trainable params: 0\n",
            "_________________________________________________________________\n"
          ],
          "name": "stdout"
        }
      ]
    },
    {
      "cell_type": "markdown",
      "metadata": {
        "id": "uWtMTlAkY_G7",
        "colab_type": "text"
      },
      "source": [
        "# Kompilera modellen"
      ]
    },
    {
      "cell_type": "code",
      "metadata": {
        "id": "VNEKBqxkZF_F",
        "colab_type": "code",
        "colab": {}
      },
      "source": [
        "\n",
        "model.compile(optimizer='adam',#stochastic gradient decent= adam, fungerade bättre än 'rmsprop' som jag också provade\n",
        "              loss='categorical_crossentropy', #loss funktion categorical\n",
        "              metrics=['accuracy'])"
      ],
      "execution_count": 0,
      "outputs": []
    },
    {
      "cell_type": "markdown",
      "metadata": {
        "id": "wbvm1sCyZ-8p",
        "colab_type": "text"
      },
      "source": [
        "# Training model med epoch (iteration)"
      ]
    },
    {
      "cell_type": "code",
      "metadata": {
        "id": "BoFl2LqCaDHk",
        "colab_type": "code",
        "outputId": "cf9fa214-5439-4eb9-aa28-47fc10c11f8a",
        "colab": {
          "base_uri": "https://localhost:8080/",
          "height": 728
        }
      },
      "source": [
        "history = model.fit(train_img, train_labels, epochs=20) # 20 epochs, ingen padding, ingen drop-out"
      ],
      "execution_count": 70,
      "outputs": [
        {
          "output_type": "stream",
          "text": [
            "Train on 60000 samples\n",
            "Epoch 1/20\n",
            "60000/60000 [==============================] - 57s 942us/sample - loss: 0.4579 - acc: 0.8346\n",
            "Epoch 2/20\n",
            "60000/60000 [==============================] - 56s 927us/sample - loss: 0.3055 - acc: 0.8884\n",
            "Epoch 3/20\n",
            "60000/60000 [==============================] - 56s 929us/sample - loss: 0.2586 - acc: 0.9058\n",
            "Epoch 4/20\n",
            "60000/60000 [==============================] - 55s 915us/sample - loss: 0.2254 - acc: 0.9168\n",
            "Epoch 5/20\n",
            "60000/60000 [==============================] - 55s 923us/sample - loss: 0.1996 - acc: 0.9257\n",
            "Epoch 6/20\n",
            "60000/60000 [==============================] - 55s 909us/sample - loss: 0.1800 - acc: 0.9328\n",
            "Epoch 7/20\n",
            "60000/60000 [==============================] - 55s 915us/sample - loss: 0.1594 - acc: 0.9405\n",
            "Epoch 8/20\n",
            "60000/60000 [==============================] - 56s 932us/sample - loss: 0.1433 - acc: 0.9464\n",
            "Epoch 9/20\n",
            "60000/60000 [==============================] - 55s 917us/sample - loss: 0.1269 - acc: 0.9526\n",
            "Epoch 10/20\n",
            "60000/60000 [==============================] - 56s 928us/sample - loss: 0.1131 - acc: 0.9581\n",
            "Epoch 11/20\n",
            "60000/60000 [==============================] - 55s 910us/sample - loss: 0.1025 - acc: 0.9616\n",
            "Epoch 12/20\n",
            "60000/60000 [==============================] - 55s 923us/sample - loss: 0.0914 - acc: 0.9660\n",
            "Epoch 13/20\n",
            "60000/60000 [==============================] - 55s 922us/sample - loss: 0.0823 - acc: 0.9690\n",
            "Epoch 14/20\n",
            "60000/60000 [==============================] - 55s 921us/sample - loss: 0.0727 - acc: 0.9730\n",
            "Epoch 15/20\n",
            "60000/60000 [==============================] - 55s 917us/sample - loss: 0.0657 - acc: 0.9748\n",
            "Epoch 16/20\n",
            "60000/60000 [==============================] - 55s 909us/sample - loss: 0.0579 - acc: 0.9777\n",
            "Epoch 17/20\n",
            "60000/60000 [==============================] - 54s 907us/sample - loss: 0.0548 - acc: 0.9797\n",
            "Epoch 18/20\n",
            "60000/60000 [==============================] - 55s 919us/sample - loss: 0.0486 - acc: 0.9813\n",
            "Epoch 19/20\n",
            "60000/60000 [==============================] - 55s 913us/sample - loss: 0.0466 - acc: 0.9825\n",
            "Epoch 20/20\n",
            "60000/60000 [==============================] - 55s 910us/sample - loss: 0.0422 - acc: 0.9844\n"
          ],
          "name": "stdout"
        }
      ]
    },
    {
      "cell_type": "markdown",
      "metadata": {
        "id": "ShndU16GklWr",
        "colab_type": "text"
      },
      "source": [
        "# Använd test data på modellen för att jämföra med träningsdata"
      ]
    },
    {
      "cell_type": "markdown",
      "metadata": {
        "id": "NPVS7_1zErU0",
        "colab_type": "text"
      },
      "source": [
        "#Plot accuracy och loss"
      ]
    },
    {
      "cell_type": "code",
      "metadata": {
        "id": "Jj_8DyOHEwXQ",
        "colab_type": "code",
        "outputId": "91f66644-5eab-4008-fc3d-97b947f4f218",
        "colab": {
          "base_uri": "https://localhost:8080/",
          "height": 294
        }
      },
      "source": [
        "import matplotlib.pyplot as plt\n",
        "\n",
        "history_dict = history.history\n",
        "loss_values = history_dict['loss']\n",
        "acc_values = history_dict['acc']\n",
        "epochs = range(1, len(acc_values) + 1)\n",
        "plt.plot(epochs, loss_values, 'bo', label='Training loss')\n",
        "plt.plot(epochs, acc_values, 'b', label='Accuracy')\n",
        "plt.title('Training data and accuracy')\n",
        "plt.xlabel('Epochs')\n",
        "plt.ylabel('Score')\n",
        "plt.legend()\n",
        "plt.show()"
      ],
      "execution_count": 71,
      "outputs": [
        {
          "output_type": "display_data",
          "data": {
            "image/png": "[encoded data removed]",
            "text/plain": [
              "<Figure size 432x288 with 1 Axes>"
            ]
          },
          "metadata": {
            "tags": []
          }
        }
      ]
    },
    {
      "cell_type": "code",
      "metadata": {
        "id": "ZxYb6aGCkxnw",
        "colab_type": "code",
        "outputId": "99d44180-23e3-47b0-ffb2-ad1c315e5c16",
        "colab": {
          "base_uri": "https://localhost:8080/",
          "height": 728
        }
      },
      "source": [
        "history2 = model.fit(test_img, test_labels, epochs=20) "
      ],
      "execution_count": 72,
      "outputs": [
        {
          "output_type": "stream",
          "text": [
            "Train on 10000 samples\n",
            "Epoch 1/20\n",
            "10000/10000 [==============================] - 9s 899us/sample - loss: 0.3631 - acc: 0.8893\n",
            "Epoch 2/20\n",
            "10000/10000 [==============================] - 9s 910us/sample - loss: 0.1850 - acc: 0.9343\n",
            "Epoch 3/20\n",
            "10000/10000 [==============================] - 9s 920us/sample - loss: 0.1326 - acc: 0.9525\n",
            "Epoch 4/20\n",
            "10000/10000 [==============================] - 9s 931us/sample - loss: 0.0960 - acc: 0.9667\n",
            "Epoch 5/20\n",
            "10000/10000 [==============================] - 9s 895us/sample - loss: 0.0730 - acc: 0.9738\n",
            "Epoch 6/20\n",
            "10000/10000 [==============================] - 9s 918us/sample - loss: 0.0503 - acc: 0.9837\n",
            "Epoch 7/20\n",
            "10000/10000 [==============================] - 9s 910us/sample - loss: 0.0380 - acc: 0.9885\n",
            "Epoch 8/20\n",
            "10000/10000 [==============================] - 9s 919us/sample - loss: 0.0260 - acc: 0.9934\n",
            "Epoch 9/20\n",
            "10000/10000 [==============================] - 9s 907us/sample - loss: 0.0225 - acc: 0.9943\n",
            "Epoch 10/20\n",
            "10000/10000 [==============================] - 9s 924us/sample - loss: 0.0141 - acc: 0.9966\n",
            "Epoch 11/20\n",
            "10000/10000 [==============================] - 9s 904us/sample - loss: 0.0137 - acc: 0.9971\n",
            "Epoch 12/20\n",
            "10000/10000 [==============================] - 9s 918us/sample - loss: 0.0147 - acc: 0.9962\n",
            "Epoch 13/20\n",
            "10000/10000 [==============================] - 9s 925us/sample - loss: 0.0083 - acc: 0.9981\n",
            "Epoch 14/20\n",
            "10000/10000 [==============================] - 9s 949us/sample - loss: 0.0133 - acc: 0.9964\n",
            "Epoch 15/20\n",
            "10000/10000 [==============================] - 9s 927us/sample - loss: 0.0134 - acc: 0.9965\n",
            "Epoch 16/20\n",
            "10000/10000 [==============================] - 9s 919us/sample - loss: 0.0120 - acc: 0.9967\n",
            "Epoch 17/20\n",
            "10000/10000 [==============================] - 9s 919us/sample - loss: 0.0046 - acc: 0.9993\n",
            "Epoch 18/20\n",
            "10000/10000 [==============================] - 9s 909us/sample - loss: 0.0095 - acc: 0.9975\n",
            "Epoch 19/20\n",
            "10000/10000 [==============================] - 9s 914us/sample - loss: 0.0117 - acc: 0.9960\n",
            "Epoch 20/20\n",
            "10000/10000 [==============================] - 9s 907us/sample - loss: 0.0042 - acc: 0.9993\n"
          ],
          "name": "stdout"
        }
      ]
    },
    {
      "cell_type": "markdown",
      "metadata": {
        "id": "zY7M2hLaLUxp",
        "colab_type": "text"
      },
      "source": [
        "#Test plot"
      ]
    },
    {
      "cell_type": "code",
      "metadata": {
        "id": "F9wfp-jkLYYA",
        "colab_type": "code",
        "outputId": "2d69acba-f84a-4cb3-daac-e916cd869b89",
        "colab": {
          "base_uri": "https://localhost:8080/",
          "height": 294
        }
      },
      "source": [
        "import matplotlib.pyplot as plt\n",
        "\n",
        "history_dict = history2.history\n",
        "test_loss_values = history_dict['loss']\n",
        "test_acc_values = history_dict['acc']\n",
        "epochs = range(1, len(test_acc_values) + 1)\n",
        "plt.plot(epochs, test_loss_values, 'ro', label='Test loss')\n",
        "plt.plot(epochs, test_acc_values, 'r', label='Test Accuracy')\n",
        "plt.title('Test data and accuracy')\n",
        "plt.xlabel('Epochs')\n",
        "plt.ylabel('Score')\n",
        "plt.legend()\n",
        "plt.show()"
      ],
      "execution_count": 73,
      "outputs": [
        {
          "output_type": "display_data",
          "data": {
            "image/png": "[encoded data removed]",
            "text/plain": [
              "<Figure size 432x288 with 1 Axes>"
            ]
          },
          "metadata": {
            "tags": []
          }
        }
      ]
    },
    {
      "cell_type": "markdown",
      "metadata": {
        "id": "OusAbhfcTI3C",
        "colab_type": "text"
      },
      "source": [
        "#Evaluera och jämför training data med test data"
      ]
    },
    {
      "cell_type": "code",
      "metadata": {
        "colab_type": "code",
        "outputId": "a1f28aeb-d1f5-40a2-8fdd-c9f0ee5097fe",
        "id": "UoGqBpNzF70C",
        "colab": {
          "base_uri": "https://localhost:8080/",
          "height": 190
        }
      },
      "source": [
        "train_loss, train_acc = model.evaluate(train_img, train_labels)\n",
        "test_loss, test_acc = model.evaluate(test_img, test_labels)\n",
        "print('\\nTrain noggrannhet: ', round(train_acc*100, 2),'%')\n",
        "print('\\nTest noggrannhet: ', round(test_acc*100, 2),'%')\n",
        "print('\\nTrain loss: ', round(train_loss, 2),'%')\n",
        "print('\\nTest loss: ', round(test_loss, 2),'%')\n"
      ],
      "execution_count": 74,
      "outputs": [
        {
          "output_type": "stream",
          "text": [
            "60000/60000 [==============================] - 17s 277us/sample - loss: 0.1714 - acc: 0.9532\n",
            "10000/10000 [==============================] - 3s 286us/sample - loss: 0.0012 - acc: 1.0000\n",
            "\n",
            "Train noggrannhet:  95.32 %\n",
            "\n",
            "Test noggrannhet:  100.0 %\n",
            "\n",
            "Train loss:  0.17 %\n",
            "\n",
            "Test loss:  0.0 %\n"
          ],
          "name": "stdout"
        }
      ]
    }
  ]
}