{
  "nbformat": 4,
  "nbformat_minor": 0,
  "metadata": {
    "colab": {
      "name": "Fashion_mnist_lab1.ipynb",
      "provenance": [],
      "collapsed_sections": [],
      "include_colab_link": true
    },
    "kernelspec": {
      "name": "python3",
      "display_name": "Python 3"
    }
  },
  "cells": [
    {
      "cell_type": "markdown",
      "metadata": {
        "id": "view-in-github",
        "colab_type": "text"
      },
      "source": [
        "<a href=\"https://colab.research.google.com/github/moomonkey/tf_lab/blob/master/Fashion_mnist_lab1.ipynb\" target=\"_parent\"><img src=\"https://colab.research.google.com/assets/colab-badge.svg\" alt=\"Open In Colab\"/></a>"
      ]
    },
    {
      "cell_type": "markdown",
      "metadata": {
        "id": "9UUZbnatoytc",
        "colab_type": "text"
      },
      "source": [
        "# Denna kod är baserad på dokumentation i tensorflow, https://www.tensorflow.org/tutorials/keras/basic_classification, Margaret Maynard-Reids https://medium.com/tensorflow/hello-deep-learning-fashion-mnist-with-keras-50fcff8cd74a, och Keras dokumentation, https://keras.io/examples/mnist_cnn/. Visualisering är inkluderad för att verifiera koden.\n",
        "# Import the fashion database"
      ]
    },
    {
      "cell_type": "code",
      "metadata": {
        "id": "xjNZorSdorx7",
        "colab_type": "code",
        "colab": {}
      },
      "source": [
        "# Importerade bibliotek"
      ],
      "execution_count": 0,
      "outputs": []
    },
    {
      "cell_type": "code",
      "metadata": {
        "id": "1lcC8RBSrBXa",
        "colab_type": "code",
        "colab": {}
      },
      "source": [
        "import tensorflow as tf\n",
        "from tensorflow import keras\n",
        "import numpy as np\n",
        "import matplotlib.pyplot as plt"
      ],
      "execution_count": 0,
      "outputs": []
    },
    {
      "cell_type": "markdown",
      "metadata": {
        "id": "k1d1R4zRr547",
        "colab_type": "text"
      },
      "source": [
        "# Importera dataset Fashion-mnist, vilket har 10 kategorier, i träningsdata, träningslabel för att träna modellen, testdata och testlabels för att testa modellen"
      ]
    },
    {
      "cell_type": "code",
      "metadata": {
        "id": "wp8OzUiRsbzy",
        "colab_type": "code",
        "colab": {}
      },
      "source": [
        "fashion_mnist = tf.keras.datasets.fashion_mnist\n",
        "(train_img, train_labels), (test_img, test_labels) = tf.keras.datasets.fashion_mnist.load_data()"
      ],
      "execution_count": 0,
      "outputs": []
    },
    {
      "cell_type": "markdown",
      "metadata": {
        "id": "2eurV1qTynVO",
        "colab_type": "text"
      },
      "source": [
        "# Se datasetet som består av 60000 exempel i 28x28 pixelformat"
      ]
    },
    {
      "cell_type": "code",
      "metadata": {
        "id": "HeAW2tGIy2tt",
        "colab_type": "code",
        "colab": {
          "base_uri": "https://localhost:8080/",
          "height": 34
        },
        "outputId": "991943cd-90f3-40d0-9e44-017e66cb1f6a"
      },
      "source": [
        "print(\"Träningsbilder: \", train_img.shape, \"Träningsetiketter: \", train_labels.shape)"
      ],
      "execution_count": 164,
      "outputs": [
        {
          "output_type": "stream",
          "text": [
            "Träningsbilder:  (60000, 28, 28) Träningsetiketter:  (60000,)\n"
          ],
          "name": "stdout"
        }
      ]
    },
    {
      "cell_type": "markdown",
      "metadata": {
        "id": "sUKSApx95epM",
        "colab_type": "text"
      },
      "source": [
        "# Se testdatan, vilket består av 10000 exempel"
      ]
    },
    {
      "cell_type": "code",
      "metadata": {
        "id": "DFAY8o_R5nrI",
        "colab_type": "code",
        "colab": {
          "base_uri": "https://localhost:8080/",
          "height": 34
        },
        "outputId": "ad78c48d-c300-4be3-ebc7-c1c90f09121a"
      },
      "source": [
        "print(\"Testbilder: \", test_img.shape, \"Testetiketter: \", test_labels.shape)"
      ],
      "execution_count": 165,
      "outputs": [
        {
          "output_type": "stream",
          "text": [
            "Testbilder:  (10000, 28, 28) Testetiketter:  (10000,)\n"
          ],
          "name": "stdout"
        }
      ]
    },
    {
      "cell_type": "markdown",
      "metadata": {
        "id": "Sz3cIhKQ0SRG",
        "colab_type": "text"
      },
      "source": [
        "# Se första bilden i datasetet och pixelvärdet"
      ]
    },
    {
      "cell_type": "code",
      "metadata": {
        "id": "YZzszkEv0ej_",
        "colab_type": "code",
        "colab": {
          "base_uri": "https://localhost:8080/",
          "height": 286
        },
        "outputId": "ea372d6c-6e2e-4d3c-f0a9-8c7b1374192a"
      },
      "source": [
        "print(plt.imshow(train_img[0]), plt.colorbar())"
      ],
      "execution_count": 166,
      "outputs": [
        {
          "output_type": "stream",
          "text": [
            "AxesImage(54,36;267.84x217.44) <matplotlib.colorbar.Colorbar object at 0x7fc34c1bc6d8>\n"
          ],
          "name": "stdout"
        },
        {
          "output_type": "display_data",
          "data": {
            "image/png": "[encoded data removed]",
            "text/plain": [
              "<Figure size 432x288 with 2 Axes>"
            ]
          },
          "metadata": {
            "tags": []
          }
        }
      ]
    },
    {
      "cell_type": "markdown",
      "metadata": {
        "id": "FbIAttTJ1ebx",
        "colab_type": "text"
      },
      "source": [
        "# Normalisera pixleldimension från 0-255 till 0-1"
      ]
    },
    {
      "cell_type": "code",
      "metadata": {
        "id": "Od7YYWSP13Rl",
        "colab_type": "code",
        "colab": {
          "base_uri": "https://localhost:8080/",
          "height": 286
        },
        "outputId": "d6409e45-e9a5-41cb-fb2f-7dc545a27d5a"
      },
      "source": [
        "train_img = train_img / 255\n",
        "train_labels = train_labels / 255\n",
        "print(plt.imshow(train_img[1]), plt.colorbar())"
      ],
      "execution_count": 167,
      "outputs": [
        {
          "output_type": "stream",
          "text": [
            "AxesImage(54,36;267.84x217.44) <matplotlib.colorbar.Colorbar object at 0x7fc34bdc3198>\n"
          ],
          "name": "stdout"
        },
        {
          "output_type": "display_data",
          "data": {
            "image/png": "[encoded data removed]",
            "text/plain": [
              "<Figure size 432x288 with 2 Axes>"
            ]
          },
          "metadata": {
            "tags": []
          }
        }
      ]
    },
    {
      "cell_type": "markdown",
      "metadata": {
        "id": "XdBoMwmf3ri2",
        "colab_type": "text"
      },
      "source": [
        "# Skapa etiketter för datasetets kategorier"
      ]
    },
    {
      "cell_type": "code",
      "metadata": {
        "id": "yjJGUZI-33dy",
        "colab_type": "code",
        "colab": {}
      },
      "source": [
        "fashion_cat = ['T-shirt', 'Trousers', 'Pullover', 'Dress', 'Coat', 'Sandal','Shirt', 'Sneaker', 'Bag', 'Boot']"
      ],
      "execution_count": 0,
      "outputs": []
    },
    {
      "cell_type": "code",
      "metadata": {
        "id": "LMxL1vZhEa83",
        "colab_type": "code",
        "colab": {
          "base_uri": "https://localhost:8080/",
          "height": 34
        },
        "outputId": "bd0670d8-4351-4631-b238-fe50b5a861c7"
      },
      "source": [
        "print(\"Label: \", fashion_cat.index('T-shirt'), \":\", fashion_cat[0])"
      ],
      "execution_count": 169,
      "outputs": [
        {
          "output_type": "stream",
          "text": [
            "Label:  0 : T-shirt\n"
          ],
          "name": "stdout"
        }
      ]
    },
    {
      "cell_type": "code",
      "metadata": {
        "id": "oZPUZm9L6p6-",
        "colab_type": "code",
        "colab": {
          "base_uri": "https://localhost:8080/",
          "height": 195
        },
        "outputId": "ebf1f261-00e1-4f46-c931-aeaa64a9777d"
      },
      "source": [
        "plt.figure(figsize=(6,3))\n",
        "for i in range(10):\n",
        "    plt.subplot(2,5,i+1)\n",
        "    plt.xticks([])\n",
        "    plt.yticks([])\n",
        "    plt.grid(False)\n",
        "    plt.imshow(train_img[i], cmap=plt.cm.binary)\n",
        "    plt.xlabel(fashion_cat[i])\n",
        "plt.show()"
      ],
      "execution_count": 170,
      "outputs": [
        {
          "output_type": "display_data",
          "data": {
            "image/png": "[encoded data removed]",
            "text/plain": [
              "<Figure size 432x216 with 10 Axes>"
            ]
          },
          "metadata": {
            "tags": []
          }
        }
      ]
    },
    {
      "cell_type": "markdown",
      "metadata": {
        "id": "vDxyRrgzS23v",
        "colab_type": "text"
      },
      "source": [
        "# Definiera lager i modell"
      ]
    },
    {
      "cell_type": "code",
      "metadata": {
        "id": "RslQhLTIS9jl",
        "colab_type": "code",
        "colab": {
          "base_uri": "https://localhost:8080/",
          "height": 255
        },
        "outputId": "ee246720-85eb-4eae-b63b-f479a70cedc1"
      },
      "source": [
        "model = keras.Sequential([\n",
        "\n",
        "  keras.layers.Flatten(input_shape=(28,28)),\n",
        "  keras.layers.Dense(256, activation='relu'),\n",
        "  keras.layers.Dense(10, activation='softmax')\n",
        "])\n",
        "\n",
        "model.summary()"
      ],
      "execution_count": 200,
      "outputs": [
        {
          "output_type": "stream",
          "text": [
            "Model: \"sequential_2\"\n",
            "_________________________________________________________________\n",
            "Layer (type)                 Output Shape              Param #   \n",
            "=================================================================\n",
            "flatten_2 (Flatten)          (None, 784)               0         \n",
            "_________________________________________________________________\n",
            "dense_4 (Dense)              (None, 256)               200960    \n",
            "_________________________________________________________________\n",
            "dense_5 (Dense)              (None, 10)                2570      \n",
            "=================================================================\n",
            "Total params: 203,530\n",
            "Trainable params: 203,530\n",
            "Non-trainable params: 0\n",
            "_________________________________________________________________\n"
          ],
          "name": "stdout"
        }
      ]
    },
    {
      "cell_type": "markdown",
      "metadata": {
        "id": "uWtMTlAkY_G7",
        "colab_type": "text"
      },
      "source": [
        "# Kompilera modellen"
      ]
    },
    {
      "cell_type": "code",
      "metadata": {
        "id": "VNEKBqxkZF_F",
        "colab_type": "code",
        "colab": {}
      },
      "source": [
        "#stochastic gradient decent\n",
        "model.compile(optimizer='adam',\n",
        "              loss='sparse_categorical_crossentropy',\n",
        "              metrics=['accuracy'])"
      ],
      "execution_count": 0,
      "outputs": []
    },
    {
      "cell_type": "markdown",
      "metadata": {
        "id": "wbvm1sCyZ-8p",
        "colab_type": "text"
      },
      "source": [
        "# Training model med epoch (iteration)"
      ]
    },
    {
      "cell_type": "code",
      "metadata": {
        "id": "BoFl2LqCaDHk",
        "colab_type": "code",
        "colab": {
          "base_uri": "https://localhost:8080/",
          "height": 1000
        },
        "outputId": "481d7417-0d06-440b-c17d-a1636124e90d"
      },
      "source": [
        "model.fit(train_img, train_labels, epochs=100)"
      ],
      "execution_count": 202,
      "outputs": [
        {
          "output_type": "stream",
          "text": [
            "Epoch 1/100\n",
            "60000/60000 [==============================] - 5s 77us/sample - loss: 0.0026 - acc: 0.0999\n",
            "Epoch 2/100\n",
            "60000/60000 [==============================] - 4s 74us/sample - loss: 6.2380e-07 - acc: 0.1000\n",
            "Epoch 3/100\n",
            "60000/60000 [==============================] - 4s 75us/sample - loss: 1.4319e-07 - acc: 0.1000\n",
            "Epoch 4/100\n",
            "60000/60000 [==============================] - 4s 73us/sample - loss: 5.0349e-08 - acc: 0.1000\n",
            "Epoch 5/100\n",
            "60000/60000 [==============================] - 4s 73us/sample - loss: 2.1460e-08 - acc: 0.1000\n",
            "Epoch 6/100\n",
            "60000/60000 [==============================] - 4s 73us/sample - loss: 9.3429e-09 - acc: 0.1000\n",
            "Epoch 7/100\n",
            "60000/60000 [==============================] - 4s 74us/sample - loss: 4.0490e-09 - acc: 0.1000\n",
            "Epoch 8/100\n",
            "60000/60000 [==============================] - 5s 79us/sample - loss: 1.8497e-09 - acc: 0.1000\n",
            "Epoch 9/100\n",
            "60000/60000 [==============================] - 5s 79us/sample - loss: 9.4969e-10 - acc: 0.1000\n",
            "Epoch 10/100\n",
            "60000/60000 [==============================] - 5s 76us/sample - loss: 5.5432e-10 - acc: 0.1000\n",
            "Epoch 11/100\n",
            "60000/60000 [==============================] - 4s 73us/sample - loss: 3.7551e-10 - acc: 0.1000\n",
            "Epoch 12/100\n",
            "60000/60000 [==============================] - 4s 73us/sample - loss: 2.6226e-10 - acc: 0.1000\n",
            "Epoch 13/100\n",
            "60000/60000 [==============================] - 4s 74us/sample - loss: 1.9669e-10 - acc: 0.1000\n",
            "Epoch 14/100\n",
            "60000/60000 [==============================] - 5s 77us/sample - loss: 1.5696e-10 - acc: 0.1000\n",
            "Epoch 15/100\n",
            "60000/60000 [==============================] - 4s 74us/sample - loss: 1.2914e-10 - acc: 0.1000\n",
            "Epoch 16/100\n",
            "60000/60000 [==============================] - 5s 75us/sample - loss: 1.0530e-10 - acc: 0.1000\n",
            "Epoch 17/100\n",
            "60000/60000 [==============================] - 5s 78us/sample - loss: 8.7420e-11 - acc: 0.1000\n",
            "Epoch 18/100\n",
            "60000/60000 [==============================] - 4s 74us/sample - loss: 7.9473e-11 - acc: 0.1000\n",
            "Epoch 19/100\n",
            "60000/60000 [==============================] - 5s 75us/sample - loss: 7.3512e-11 - acc: 0.1000\n",
            "Epoch 20/100\n",
            "60000/60000 [==============================] - 5s 82us/sample - loss: 5.5631e-11 - acc: 0.1000\n",
            "Epoch 21/100\n",
            "60000/60000 [==============================] - 5s 88us/sample - loss: 4.9670e-11 - acc: 0.1000\n",
            "Epoch 22/100\n",
            "60000/60000 [==============================] - 5s 84us/sample - loss: 4.3710e-11 - acc: 0.1000\n",
            "Epoch 23/100\n",
            "60000/60000 [==============================] - 6s 92us/sample - loss: 4.1723e-11 - acc: 0.1000\n",
            "Epoch 24/100\n",
            "60000/60000 [==============================] - 5s 82us/sample - loss: 4.1723e-11 - acc: 0.1000\n",
            "Epoch 25/100\n",
            "60000/60000 [==============================] - 5s 89us/sample - loss: 4.1723e-11 - acc: 0.1000\n",
            "Epoch 26/100\n",
            "60000/60000 [==============================] - 5s 80us/sample - loss: 3.5763e-11 - acc: 0.1000\n",
            "Epoch 27/100\n",
            "60000/60000 [==============================] - 5s 86us/sample - loss: 3.1789e-11 - acc: 0.1000\n",
            "Epoch 28/100\n",
            "60000/60000 [==============================] - 5s 86us/sample - loss: 2.9802e-11 - acc: 0.1000\n",
            "Epoch 29/100\n",
            "60000/60000 [==============================] - 4s 74us/sample - loss: 2.5829e-11 - acc: 0.1000\n",
            "Epoch 30/100\n",
            "60000/60000 [==============================] - 4s 74us/sample - loss: 2.5829e-11 - acc: 0.1000\n",
            "Epoch 31/100\n",
            "60000/60000 [==============================] - 4s 74us/sample - loss: 2.5829e-11 - acc: 0.1000\n",
            "Epoch 32/100\n",
            "60000/60000 [==============================] - 5s 79us/sample - loss: 2.5829e-11 - acc: 0.1000\n",
            "Epoch 33/100\n",
            "60000/60000 [==============================] - 5s 77us/sample - loss: 2.3842e-11 - acc: 0.1000\n",
            "Epoch 34/100\n",
            "60000/60000 [==============================] - 5s 75us/sample - loss: 2.3842e-11 - acc: 0.1000\n",
            "Epoch 35/100\n",
            "60000/60000 [==============================] - 5s 86us/sample - loss: 2.3842e-11 - acc: 0.1000\n",
            "Epoch 36/100\n",
            "60000/60000 [==============================] - 5s 77us/sample - loss: 2.1855e-11 - acc: 0.1000\n",
            "Epoch 37/100\n",
            "60000/60000 [==============================] - 4s 75us/sample - loss: 2.1855e-11 - acc: 0.1000\n",
            "Epoch 38/100\n",
            "60000/60000 [==============================] - 5s 77us/sample - loss: 1.9868e-11 - acc: 0.1000\n",
            "Epoch 39/100\n",
            "60000/60000 [==============================] - 5s 78us/sample - loss: 1.7881e-11 - acc: 0.1000\n",
            "Epoch 40/100\n",
            "60000/60000 [==============================] - 5s 75us/sample - loss: 1.5895e-11 - acc: 0.1000\n",
            "Epoch 41/100\n",
            "60000/60000 [==============================] - 4s 74us/sample - loss: 1.5895e-11 - acc: 0.1000\n",
            "Epoch 42/100\n",
            "60000/60000 [==============================] - 4s 73us/sample - loss: 1.5895e-11 - acc: 0.1000\n",
            "Epoch 43/100\n",
            "60000/60000 [==============================] - 4s 73us/sample - loss: 1.5895e-11 - acc: 0.1000\n",
            "Epoch 44/100\n",
            "60000/60000 [==============================] - 4s 73us/sample - loss: 1.5895e-11 - acc: 0.1000\n",
            "Epoch 45/100\n",
            "60000/60000 [==============================] - 5s 77us/sample - loss: 1.5895e-11 - acc: 0.1000\n",
            "Epoch 46/100\n",
            "60000/60000 [==============================] - 5s 84us/sample - loss: 1.3908e-11 - acc: 0.1000\n",
            "Epoch 47/100\n",
            "60000/60000 [==============================] - 5s 88us/sample - loss: 1.1921e-11 - acc: 0.1000\n",
            "Epoch 48/100\n",
            "60000/60000 [==============================] - 5s 86us/sample - loss: 1.1921e-11 - acc: 0.1000\n",
            "Epoch 49/100\n",
            "60000/60000 [==============================] - 5s 88us/sample - loss: 9.9341e-12 - acc: 0.1000\n",
            "Epoch 50/100\n",
            "60000/60000 [==============================] - 5s 78us/sample - loss: 9.9341e-12 - acc: 0.1000\n",
            "Epoch 51/100\n",
            "60000/60000 [==============================] - 5s 82us/sample - loss: 9.9341e-12 - acc: 0.1000\n",
            "Epoch 52/100\n",
            "60000/60000 [==============================] - 5s 78us/sample - loss: 9.9341e-12 - acc: 0.1000\n",
            "Epoch 53/100\n",
            "60000/60000 [==============================] - 5s 79us/sample - loss: 9.9341e-12 - acc: 0.1000\n",
            "Epoch 54/100\n",
            "60000/60000 [==============================] - 5s 79us/sample - loss: 9.9341e-12 - acc: 0.1000\n",
            "Epoch 55/100\n",
            "60000/60000 [==============================] - 5s 78us/sample - loss: 9.9341e-12 - acc: 0.1000\n",
            "Epoch 56/100\n",
            "60000/60000 [==============================] - 5s 77us/sample - loss: 9.9341e-12 - acc: 0.1000\n",
            "Epoch 57/100\n",
            "60000/60000 [==============================] - 5s 76us/sample - loss: 9.9341e-12 - acc: 0.1000\n",
            "Epoch 58/100\n",
            "60000/60000 [==============================] - 5s 76us/sample - loss: 9.9341e-12 - acc: 0.1000\n",
            "Epoch 59/100\n",
            "60000/60000 [==============================] - 5s 76us/sample - loss: 9.9341e-12 - acc: 0.1000\n",
            "Epoch 60/100\n",
            "60000/60000 [==============================] - 4s 74us/sample - loss: 9.9341e-12 - acc: 0.1000\n",
            "Epoch 61/100\n",
            "60000/60000 [==============================] - 4s 75us/sample - loss: 9.9341e-12 - acc: 0.1000\n",
            "Epoch 62/100\n",
            "60000/60000 [==============================] - 5s 81us/sample - loss: 9.9341e-12 - acc: 0.1000\n",
            "Epoch 63/100\n",
            "60000/60000 [==============================] - 5s 78us/sample - loss: 9.9341e-12 - acc: 0.1000\n",
            "Epoch 64/100\n",
            "60000/60000 [==============================] - 5s 76us/sample - loss: 7.9473e-12 - acc: 0.1000\n",
            "Epoch 65/100\n",
            "60000/60000 [==============================] - 4s 75us/sample - loss: 7.9473e-12 - acc: 0.1000\n",
            "Epoch 66/100\n",
            "60000/60000 [==============================] - 5s 76us/sample - loss: 7.9473e-12 - acc: 0.1000\n",
            "Epoch 67/100\n",
            "60000/60000 [==============================] - 5s 78us/sample - loss: 7.9473e-12 - acc: 0.1000\n",
            "Epoch 68/100\n",
            "60000/60000 [==============================] - 4s 75us/sample - loss: 7.9473e-12 - acc: 0.1000\n",
            "Epoch 69/100\n",
            "60000/60000 [==============================] - 4s 74us/sample - loss: 7.9473e-12 - acc: 0.1000\n",
            "Epoch 70/100\n",
            "60000/60000 [==============================] - 5s 75us/sample - loss: 7.9473e-12 - acc: 0.1000\n",
            "Epoch 71/100\n",
            "60000/60000 [==============================] - 5s 75us/sample - loss: 7.9473e-12 - acc: 0.1000\n",
            "Epoch 72/100\n",
            "60000/60000 [==============================] - 4s 75us/sample - loss: 7.9473e-12 - acc: 0.1000\n",
            "Epoch 73/100\n",
            "60000/60000 [==============================] - 5s 75us/sample - loss: 7.9473e-12 - acc: 0.1000\n",
            "Epoch 74/100\n",
            "60000/60000 [==============================] - 5s 75us/sample - loss: 7.9473e-12 - acc: 0.1000\n",
            "Epoch 75/100\n",
            "60000/60000 [==============================] - 4s 75us/sample - loss: 7.9473e-12 - acc: 0.1000\n",
            "Epoch 76/100\n",
            "60000/60000 [==============================] - 4s 74us/sample - loss: 5.9605e-12 - acc: 0.1000\n",
            "Epoch 77/100\n",
            "60000/60000 [==============================] - 4s 74us/sample - loss: 5.9605e-12 - acc: 0.1000\n",
            "Epoch 78/100\n",
            "60000/60000 [==============================] - 4s 74us/sample - loss: 5.9605e-12 - acc: 0.1000\n",
            "Epoch 79/100\n",
            "60000/60000 [==============================] - 5s 79us/sample - loss: 5.9605e-12 - acc: 0.1000\n",
            "Epoch 80/100\n",
            "60000/60000 [==============================] - 5s 87us/sample - loss: 5.9605e-12 - acc: 0.1000\n",
            "Epoch 81/100\n",
            "60000/60000 [==============================] - 5s 83us/sample - loss: 5.9605e-12 - acc: 0.1000\n",
            "Epoch 82/100\n",
            "60000/60000 [==============================] - 5s 83us/sample - loss: 5.9605e-12 - acc: 0.1000\n",
            "Epoch 83/100\n",
            "60000/60000 [==============================] - 5s 88us/sample - loss: 5.9605e-12 - acc: 0.1000\n",
            "Epoch 84/100\n",
            "60000/60000 [==============================] - 5s 87us/sample - loss: 5.9605e-12 - acc: 0.1000\n",
            "Epoch 85/100\n",
            "60000/60000 [==============================] - 5s 84us/sample - loss: 5.9605e-12 - acc: 0.1000\n",
            "Epoch 86/100\n",
            "60000/60000 [==============================] - 5s 87us/sample - loss: 5.9605e-12 - acc: 0.1000\n",
            "Epoch 87/100\n",
            "60000/60000 [==============================] - 5s 75us/sample - loss: 5.9605e-12 - acc: 0.1000\n",
            "Epoch 88/100\n",
            "60000/60000 [==============================] - 5s 76us/sample - loss: 5.9605e-12 - acc: 0.1000\n",
            "Epoch 89/100\n",
            "60000/60000 [==============================] - 5s 80us/sample - loss: 5.9605e-12 - acc: 0.1000\n",
            "Epoch 90/100\n",
            "60000/60000 [==============================] - 4s 73us/sample - loss: 5.9605e-12 - acc: 0.1000\n",
            "Epoch 91/100\n",
            "60000/60000 [==============================] - 4s 73us/sample - loss: 5.9605e-12 - acc: 0.1000\n",
            "Epoch 92/100\n",
            "60000/60000 [==============================] - 4s 74us/sample - loss: 5.9605e-12 - acc: 0.1000\n",
            "Epoch 93/100\n",
            "60000/60000 [==============================] - 5s 81us/sample - loss: 5.9605e-12 - acc: 0.1000\n",
            "Epoch 94/100\n",
            "60000/60000 [==============================] - 4s 74us/sample - loss: 5.9605e-12 - acc: 0.1000\n",
            "Epoch 95/100\n",
            "60000/60000 [==============================] - 5s 75us/sample - loss: 5.9605e-12 - acc: 0.1000\n",
            "Epoch 96/100\n",
            "60000/60000 [==============================] - 5s 81us/sample - loss: 5.9605e-12 - acc: 0.1000\n",
            "Epoch 97/100\n",
            "60000/60000 [==============================] - 5s 82us/sample - loss: 5.9605e-12 - acc: 0.1000\n",
            "Epoch 98/100\n",
            "60000/60000 [==============================] - 5s 84us/sample - loss: 5.9605e-12 - acc: 0.1000\n",
            "Epoch 99/100\n",
            "60000/60000 [==============================] - 5s 84us/sample - loss: 5.9605e-12 - acc: 0.1000\n",
            "Epoch 100/100\n",
            "60000/60000 [==============================] - 5s 82us/sample - loss: 5.9605e-12 - acc: 0.1000\n"
          ],
          "name": "stdout"
        },
        {
          "output_type": "execute_result",
          "data": {
            "text/plain": [
              "<tensorflow.python.keras.callbacks.History at 0x7fc34bd38080>"
            ]
          },
          "metadata": {
            "tags": []
          },
          "execution_count": 202
        }
      ]
    },
    {
      "cell_type": "markdown",
      "metadata": {
        "id": "5lnjRhl3aiWe",
        "colab_type": "text"
      },
      "source": [
        "# Evaluera noggrannhet"
      ]
    },
    {
      "cell_type": "code",
      "metadata": {
        "id": "FR85yYLdarSC",
        "colab_type": "code",
        "colab": {
          "base_uri": "https://localhost:8080/",
          "height": 85
        },
        "outputId": "1d062d53-12f6-45cd-aad7-16559eafca99"
      },
      "source": [
        "train_loss, train_acc = model.evaluate(train_img, train_labels)\n",
        "print('\\nTest nogrannhet: ', train_acc, '\\nTest loss', train_loss)"
      ],
      "execution_count": 206,
      "outputs": [
        {
          "output_type": "stream",
          "text": [
            "60000/60000 [==============================] - 2s 38us/sample - loss: 1.4267 - acc: 1.6667e-05\n",
            "\n",
            "Test nogrannhet:  1.6666667e-05 \n",
            "Test loss 1.4267186539332073\n"
          ],
          "name": "stdout"
        }
      ]
    },
    {
      "cell_type": "markdown",
      "metadata": {
        "id": "ShndU16GklWr",
        "colab_type": "text"
      },
      "source": [
        "# Använd test data på modellen för att jämföra med träningsdata"
      ]
    },
    {
      "cell_type": "code",
      "metadata": {
        "id": "ZxYb6aGCkxnw",
        "colab_type": "code",
        "colab": {
          "base_uri": "https://localhost:8080/",
          "height": 1000
        },
        "outputId": "fbc6110b-3e09-4021-8aec-7421292604fb"
      },
      "source": [
        "model.fit(test_img, test_labels, epochs=100)"
      ],
      "execution_count": 204,
      "outputs": [
        {
          "output_type": "stream",
          "text": [
            "Epoch 1/100\n",
            "10000/10000 [==============================] - 1s 75us/sample - loss: 591.0642 - acc: 0.6593\n",
            "Epoch 2/100\n",
            "10000/10000 [==============================] - 1s 74us/sample - loss: 10.2355 - acc: 0.7588\n",
            "Epoch 3/100\n",
            "10000/10000 [==============================] - 1s 78us/sample - loss: 8.0576 - acc: 0.7729\n",
            "Epoch 4/100\n",
            "10000/10000 [==============================] - 1s 73us/sample - loss: 6.1591 - acc: 0.7866\n",
            "Epoch 5/100\n",
            "10000/10000 [==============================] - 1s 74us/sample - loss: 5.3485 - acc: 0.7902\n",
            "Epoch 6/100\n",
            "10000/10000 [==============================] - 1s 73us/sample - loss: 4.6100 - acc: 0.7978\n",
            "Epoch 7/100\n",
            "10000/10000 [==============================] - 1s 74us/sample - loss: 4.2743 - acc: 0.7980\n",
            "Epoch 8/100\n",
            "10000/10000 [==============================] - 1s 72us/sample - loss: 3.4218 - acc: 0.8157\n",
            "Epoch 9/100\n",
            "10000/10000 [==============================] - 1s 73us/sample - loss: 3.5384 - acc: 0.8111\n",
            "Epoch 10/100\n",
            "10000/10000 [==============================] - 1s 72us/sample - loss: 3.2633 - acc: 0.8137\n",
            "Epoch 11/100\n",
            "10000/10000 [==============================] - 1s 71us/sample - loss: 2.7833 - acc: 0.8233\n",
            "Epoch 12/100\n",
            "10000/10000 [==============================] - 1s 71us/sample - loss: 2.8581 - acc: 0.8177\n",
            "Epoch 13/100\n",
            "10000/10000 [==============================] - 1s 74us/sample - loss: 2.8613 - acc: 0.8180\n",
            "Epoch 14/100\n",
            "10000/10000 [==============================] - 1s 73us/sample - loss: 2.1472 - acc: 0.8318\n",
            "Epoch 15/100\n",
            "10000/10000 [==============================] - 1s 73us/sample - loss: 2.0263 - acc: 0.8308\n",
            "Epoch 16/100\n",
            "10000/10000 [==============================] - 1s 73us/sample - loss: 1.8807 - acc: 0.8196\n",
            "Epoch 17/100\n",
            "10000/10000 [==============================] - 1s 76us/sample - loss: 1.3696 - acc: 0.7985\n",
            "Epoch 18/100\n",
            "10000/10000 [==============================] - 1s 76us/sample - loss: 0.9007 - acc: 0.7823\n",
            "Epoch 19/100\n",
            "10000/10000 [==============================] - 1s 74us/sample - loss: 0.9039 - acc: 0.7885\n",
            "Epoch 20/100\n",
            "10000/10000 [==============================] - 1s 76us/sample - loss: 0.6998 - acc: 0.8101\n",
            "Epoch 21/100\n",
            "10000/10000 [==============================] - 1s 78us/sample - loss: 0.6822 - acc: 0.8156\n",
            "Epoch 22/100\n",
            "10000/10000 [==============================] - 1s 100us/sample - loss: 0.7210 - acc: 0.8094\n",
            "Epoch 23/100\n",
            "10000/10000 [==============================] - 1s 84us/sample - loss: 0.6020 - acc: 0.8204\n",
            "Epoch 24/100\n",
            "10000/10000 [==============================] - 1s 76us/sample - loss: 0.5903 - acc: 0.8314\n",
            "Epoch 25/100\n",
            "10000/10000 [==============================] - 1s 75us/sample - loss: 0.5913 - acc: 0.8300\n",
            "Epoch 26/100\n",
            "10000/10000 [==============================] - 1s 75us/sample - loss: 0.5068 - acc: 0.8312\n",
            "Epoch 27/100\n",
            "10000/10000 [==============================] - 1s 76us/sample - loss: 0.5122 - acc: 0.8326\n",
            "Epoch 28/100\n",
            "10000/10000 [==============================] - 1s 77us/sample - loss: 0.5469 - acc: 0.8284\n",
            "Epoch 29/100\n",
            "10000/10000 [==============================] - 1s 76us/sample - loss: 0.5242 - acc: 0.8376\n",
            "Epoch 30/100\n",
            "10000/10000 [==============================] - 1s 97us/sample - loss: 0.5024 - acc: 0.8354\n",
            "Epoch 31/100\n",
            "10000/10000 [==============================] - 1s 86us/sample - loss: 0.5055 - acc: 0.8469\n",
            "Epoch 32/100\n",
            "10000/10000 [==============================] - 1s 83us/sample - loss: 0.4235 - acc: 0.8487\n",
            "Epoch 33/100\n",
            "10000/10000 [==============================] - 1s 81us/sample - loss: 0.3939 - acc: 0.8573\n",
            "Epoch 34/100\n",
            "10000/10000 [==============================] - 1s 79us/sample - loss: 0.4348 - acc: 0.8494\n",
            "Epoch 35/100\n",
            "10000/10000 [==============================] - 1s 90us/sample - loss: 0.4725 - acc: 0.8438\n",
            "Epoch 36/100\n",
            "10000/10000 [==============================] - 1s 86us/sample - loss: 0.4900 - acc: 0.8385\n",
            "Epoch 37/100\n",
            "10000/10000 [==============================] - 1s 82us/sample - loss: 0.4638 - acc: 0.8452\n",
            "Epoch 38/100\n",
            "10000/10000 [==============================] - 1s 80us/sample - loss: 0.4263 - acc: 0.8476\n",
            "Epoch 39/100\n",
            "10000/10000 [==============================] - 1s 80us/sample - loss: 0.4048 - acc: 0.8541\n",
            "Epoch 40/100\n",
            "10000/10000 [==============================] - 1s 80us/sample - loss: 0.3997 - acc: 0.8577\n",
            "Epoch 41/100\n",
            "10000/10000 [==============================] - 1s 88us/sample - loss: 0.4151 - acc: 0.8525\n",
            "Epoch 42/100\n",
            "10000/10000 [==============================] - 1s 91us/sample - loss: 0.4124 - acc: 0.8561\n",
            "Epoch 43/100\n",
            "10000/10000 [==============================] - 1s 86us/sample - loss: 0.4899 - acc: 0.8436\n",
            "Epoch 44/100\n",
            "10000/10000 [==============================] - 1s 97us/sample - loss: 0.4060 - acc: 0.8583\n",
            "Epoch 45/100\n",
            "10000/10000 [==============================] - 1s 92us/sample - loss: 0.4000 - acc: 0.8594\n",
            "Epoch 46/100\n",
            "10000/10000 [==============================] - 1s 89us/sample - loss: 0.3878 - acc: 0.8585\n",
            "Epoch 47/100\n",
            "10000/10000 [==============================] - 1s 91us/sample - loss: 0.3883 - acc: 0.8644\n",
            "Epoch 48/100\n",
            "10000/10000 [==============================] - 1s 90us/sample - loss: 0.4039 - acc: 0.8548\n",
            "Epoch 49/100\n",
            "10000/10000 [==============================] - 1s 92us/sample - loss: 0.3797 - acc: 0.8691\n",
            "Epoch 50/100\n",
            "10000/10000 [==============================] - 1s 87us/sample - loss: 0.3818 - acc: 0.8615\n",
            "Epoch 51/100\n",
            "10000/10000 [==============================] - 1s 74us/sample - loss: 0.3510 - acc: 0.8710\n",
            "Epoch 52/100\n",
            "10000/10000 [==============================] - 1s 73us/sample - loss: 0.3623 - acc: 0.8697\n",
            "Epoch 53/100\n",
            "10000/10000 [==============================] - 1s 71us/sample - loss: 0.3564 - acc: 0.8699\n",
            "Epoch 54/100\n",
            "10000/10000 [==============================] - 1s 71us/sample - loss: 0.3868 - acc: 0.8648\n",
            "Epoch 55/100\n",
            "10000/10000 [==============================] - 1s 73us/sample - loss: 0.4336 - acc: 0.8596\n",
            "Epoch 56/100\n",
            "10000/10000 [==============================] - 1s 72us/sample - loss: 0.4027 - acc: 0.8640\n",
            "Epoch 57/100\n",
            "10000/10000 [==============================] - 1s 73us/sample - loss: 0.4233 - acc: 0.8601\n",
            "Epoch 58/100\n",
            "10000/10000 [==============================] - 1s 74us/sample - loss: 0.3725 - acc: 0.8703\n",
            "Epoch 59/100\n",
            "10000/10000 [==============================] - 1s 73us/sample - loss: 0.3821 - acc: 0.8652\n",
            "Epoch 60/100\n",
            "10000/10000 [==============================] - 1s 78us/sample - loss: 0.3442 - acc: 0.8753\n",
            "Epoch 61/100\n",
            "10000/10000 [==============================] - 1s 82us/sample - loss: 0.3349 - acc: 0.8800\n",
            "Epoch 62/100\n",
            "10000/10000 [==============================] - 1s 78us/sample - loss: 0.3657 - acc: 0.8689\n",
            "Epoch 63/100\n",
            "10000/10000 [==============================] - 1s 85us/sample - loss: 0.3354 - acc: 0.8818\n",
            "Epoch 64/100\n",
            "10000/10000 [==============================] - 1s 86us/sample - loss: 0.3647 - acc: 0.8734\n",
            "Epoch 65/100\n",
            "10000/10000 [==============================] - 1s 87us/sample - loss: 0.3783 - acc: 0.8717\n",
            "Epoch 66/100\n",
            "10000/10000 [==============================] - 1s 84us/sample - loss: 0.3983 - acc: 0.8631\n",
            "Epoch 67/100\n",
            "10000/10000 [==============================] - 1s 85us/sample - loss: 0.3280 - acc: 0.8790\n",
            "Epoch 68/100\n",
            "10000/10000 [==============================] - 1s 91us/sample - loss: 0.3378 - acc: 0.8799\n",
            "Epoch 69/100\n",
            "10000/10000 [==============================] - 1s 81us/sample - loss: 0.3429 - acc: 0.8785\n",
            "Epoch 70/100\n",
            "10000/10000 [==============================] - 1s 80us/sample - loss: 0.3733 - acc: 0.8723\n",
            "Epoch 71/100\n",
            "10000/10000 [==============================] - 1s 84us/sample - loss: 0.3492 - acc: 0.8783\n",
            "Epoch 72/100\n",
            "10000/10000 [==============================] - 1s 78us/sample - loss: 0.3116 - acc: 0.8895\n",
            "Epoch 73/100\n",
            "10000/10000 [==============================] - 1s 79us/sample - loss: 0.3602 - acc: 0.8826\n",
            "Epoch 74/100\n",
            "10000/10000 [==============================] - 1s 77us/sample - loss: 0.3640 - acc: 0.8703\n",
            "Epoch 75/100\n",
            "10000/10000 [==============================] - 1s 84us/sample - loss: 0.3377 - acc: 0.8785\n",
            "Epoch 76/100\n",
            "10000/10000 [==============================] - 1s 80us/sample - loss: 0.3490 - acc: 0.8789\n",
            "Epoch 77/100\n",
            "10000/10000 [==============================] - 1s 79us/sample - loss: 0.3245 - acc: 0.8799\n",
            "Epoch 78/100\n",
            "10000/10000 [==============================] - 1s 77us/sample - loss: 0.3655 - acc: 0.8780\n",
            "Epoch 79/100\n",
            "10000/10000 [==============================] - 1s 78us/sample - loss: 0.3235 - acc: 0.8849\n",
            "Epoch 80/100\n",
            "10000/10000 [==============================] - 1s 76us/sample - loss: 0.3091 - acc: 0.8862\n",
            "Epoch 81/100\n",
            "10000/10000 [==============================] - 1s 81us/sample - loss: 0.3025 - acc: 0.8871\n",
            "Epoch 82/100\n",
            "10000/10000 [==============================] - 1s 78us/sample - loss: 0.3200 - acc: 0.8816\n",
            "Epoch 83/100\n",
            "10000/10000 [==============================] - 1s 79us/sample - loss: 0.3479 - acc: 0.8800\n",
            "Epoch 84/100\n",
            "10000/10000 [==============================] - 1s 81us/sample - loss: 0.3577 - acc: 0.8752\n",
            "Epoch 85/100\n",
            "10000/10000 [==============================] - 1s 76us/sample - loss: 0.3150 - acc: 0.8857\n",
            "Epoch 86/100\n",
            "10000/10000 [==============================] - 1s 80us/sample - loss: 0.3379 - acc: 0.8845\n",
            "Epoch 87/100\n",
            "10000/10000 [==============================] - 1s 79us/sample - loss: 0.3453 - acc: 0.8791\n",
            "Epoch 88/100\n",
            "10000/10000 [==============================] - 1s 77us/sample - loss: 0.3294 - acc: 0.8841\n",
            "Epoch 89/100\n",
            "10000/10000 [==============================] - 1s 74us/sample - loss: 0.3311 - acc: 0.8833\n",
            "Epoch 90/100\n",
            "10000/10000 [==============================] - 1s 74us/sample - loss: 0.3524 - acc: 0.8798\n",
            "Epoch 91/100\n",
            "10000/10000 [==============================] - 1s 73us/sample - loss: 0.3372 - acc: 0.8838\n",
            "Epoch 92/100\n",
            "10000/10000 [==============================] - 1s 72us/sample - loss: 0.3084 - acc: 0.8878\n",
            "Epoch 93/100\n",
            "10000/10000 [==============================] - 1s 73us/sample - loss: 0.2921 - acc: 0.8920\n",
            "Epoch 94/100\n",
            "10000/10000 [==============================] - 1s 74us/sample - loss: 0.2978 - acc: 0.8917\n",
            "Epoch 95/100\n",
            "10000/10000 [==============================] - 1s 75us/sample - loss: 0.3027 - acc: 0.8897\n",
            "Epoch 96/100\n",
            "10000/10000 [==============================] - 1s 73us/sample - loss: 0.2826 - acc: 0.8962\n",
            "Epoch 97/100\n",
            "10000/10000 [==============================] - 1s 73us/sample - loss: 0.3325 - acc: 0.8865\n",
            "Epoch 98/100\n",
            "10000/10000 [==============================] - 1s 73us/sample - loss: 0.3646 - acc: 0.8758\n",
            "Epoch 99/100\n",
            "10000/10000 [==============================] - 1s 74us/sample - loss: 0.3126 - acc: 0.8913\n",
            "Epoch 100/100\n",
            "10000/10000 [==============================] - 1s 74us/sample - loss: 0.2873 - acc: 0.8942\n"
          ],
          "name": "stdout"
        },
        {
          "output_type": "execute_result",
          "data": {
            "text/plain": [
              "<tensorflow.python.keras.callbacks.History at 0x7fc34c070630>"
            ]
          },
          "metadata": {
            "tags": []
          },
          "execution_count": 204
        }
      ]
    },
    {
      "cell_type": "markdown",
      "metadata": {
        "id": "_3zcYYOdmSIN",
        "colab_type": "text"
      },
      "source": [
        "#Evaluera test data"
      ]
    },
    {
      "cell_type": "code",
      "metadata": {
        "id": "iM311awKmX1k",
        "colab_type": "code",
        "colab": {
          "base_uri": "https://localhost:8080/",
          "height": 85
        },
        "outputId": "6e445382-a3e3-4dc1-ed08-6a052db3dcf7"
      },
      "source": [
        "test_loss, test_acc = model.evaluate(test_img, test_labels)\n",
        "print('\\nTest nogrannhet: ', test_acc, '\\nTest loss', test_loss)"
      ],
      "execution_count": 207,
      "outputs": [
        {
          "output_type": "stream",
          "text": [
            "10000/10000 [==============================] - 0s 38us/sample - loss: 0.3473 - acc: 0.8709\n",
            "\n",
            "Test nogrannhet:  0.8709 \n",
            "Test loss 0.34729752514362333\n"
          ],
          "name": "stdout"
        }
      ]
    },
    {
      "cell_type": "markdown",
      "metadata": {
        "id": "4UkF5xvym01s",
        "colab_type": "text"
      },
      "source": [
        "# Resultat av evaluering: Bäst testresultat av klassificering"
      ]
    },
    {
      "cell_type": "code",
      "metadata": {
        "id": "Bl0Ra64Zm4Bh",
        "colab_type": "code",
        "colab": {}
      },
      "source": [
        "predictions = model.predict(test_img)"
      ],
      "execution_count": 0,
      "outputs": []
    },
    {
      "cell_type": "code",
      "metadata": {
        "id": "RmHBoGIOnGYa",
        "colab_type": "code",
        "colab": {
          "base_uri": "https://localhost:8080/",
          "height": 51
        },
        "outputId": "183d09dc-4667-4d0e-99d3-8512d95e370d"
      },
      "source": [
        "print(\"Etikett_nummer: \",np.argmax(predictions[0]), '\\n'\"Katergori: \", fashion_cat[np.argmax(predictions[0])])"
      ],
      "execution_count": 227,
      "outputs": [
        {
          "output_type": "stream",
          "text": [
            "Etikett_nummer:  7 \n",
            "Katergori:  Sneaker\n"
          ],
          "name": "stdout"
        }
      ]
    }
  ]
}