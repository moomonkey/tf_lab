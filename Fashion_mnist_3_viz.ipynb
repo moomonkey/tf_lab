{
  "nbformat": 4,
  "nbformat_minor": 0,
  "metadata": {
    "colab": {
      "name": "Fashion_mnist_3-viz.ipynb",
      "provenance": [],
      "collapsed_sections": [],
      "include_colab_link": true
    },
    "kernelspec": {
      "name": "python3",
      "display_name": "Python 3"
    }
  },
  "cells": [
    {
      "cell_type": "markdown",
      "metadata": {
        "id": "view-in-github",
        "colab_type": "text"
      },
      "source": [
        "<a href=\"https://colab.research.google.com/github/moomonkey/tf_lab/blob/master/Fashion_mnist_3_viz.ipynb\" target=\"_parent\"><img src=\"https://colab.research.google.com/assets/colab-badge.svg\" alt=\"Open In Colab\"/></a>"
      ]
    },
    {
      "cell_type": "markdown",
      "metadata": {
        "id": "9UUZbnatoytc",
        "colab_type": "text"
      },
      "source": [
        "# Denna kod använder Tensorflow, keras, med Fashion-mnist som databas\n",
        "\n",
        "# Denna kod är baserad på dokumentation i Francois Chollets \"Deep learning with Python\", tensorflow API, docs, och tutorials: https://www.tensorflow.org/tutorials/keras/basic_classification och Keras dokumentation, https://keras.io/examples/mnist_cnn/. Visualisering är inkluderad för att verifiera koden."
      ]
    },
    {
      "cell_type": "markdown",
      "metadata": {
        "id": "me5FZHjdX_K0",
        "colab_type": "text"
      },
      "source": [
        "# Imports"
      ]
    },
    {
      "cell_type": "code",
      "metadata": {
        "id": "1lcC8RBSrBXa",
        "colab_type": "code",
        "colab": {}
      },
      "source": [
        "import tensorflow as tf\n",
        "from tensorflow import keras\n",
        "import numpy as np\n",
        "import matplotlib.pyplot as plt\n",
        "%matplotlib inline"
      ],
      "execution_count": 0,
      "outputs": []
    },
    {
      "cell_type": "markdown",
      "metadata": {
        "id": "k1d1R4zRr547",
        "colab_type": "text"
      },
      "source": [
        "# Importera dataset Fashion-mnist, vilket har 10 kategorier, i träningsdata, träningslabel för att träna modellen, testdata och testlabels för att testa modellen"
      ]
    },
    {
      "cell_type": "code",
      "metadata": {
        "id": "wp8OzUiRsbzy",
        "colab_type": "code",
        "colab": {
          "base_uri": "https://localhost:8080/",
          "height": 156
        },
        "outputId": "ef52f96f-ded8-4374-f846-4e1ddb08bfe8"
      },
      "source": [
        "fashion_mnist = tf.keras.datasets.fashion_mnist\n",
        "(train_img, train_labels), (test_img, test_labels) = tf.keras.datasets.fashion_mnist.load_data()"
      ],
      "execution_count": 4,
      "outputs": [
        {
          "output_type": "stream",
          "text": [
            "Downloading data from https://storage.googleapis.com/tensorflow/tf-keras-datasets/train-labels-idx1-ubyte.gz\n",
            "32768/29515 [=================================] - 0s 0us/step\n",
            "Downloading data from https://storage.googleapis.com/tensorflow/tf-keras-datasets/train-images-idx3-ubyte.gz\n",
            "26427392/26421880 [==============================] - 0s 0us/step\n",
            "Downloading data from https://storage.googleapis.com/tensorflow/tf-keras-datasets/t10k-labels-idx1-ubyte.gz\n",
            "8192/5148 [===============================================] - 0s 0us/step\n",
            "Downloading data from https://storage.googleapis.com/tensorflow/tf-keras-datasets/t10k-images-idx3-ubyte.gz\n",
            "4423680/4422102 [==============================] - 0s 0us/step\n"
          ],
          "name": "stdout"
        }
      ]
    },
    {
      "cell_type": "markdown",
      "metadata": {
        "id": "2eurV1qTynVO",
        "colab_type": "text"
      },
      "source": [
        "# Se träningsdata och testdata"
      ]
    },
    {
      "cell_type": "code",
      "metadata": {
        "id": "HeAW2tGIy2tt",
        "colab_type": "code",
        "outputId": "61e53524-55aa-4831-9114-fe88eec4b0b1",
        "colab": {
          "base_uri": "https://localhost:8080/",
          "height": 52
        }
      },
      "source": [
        "print(\"Träningsbilder: \", train_img.shape, \"Träningsetiketter: \", train_labels.shape) #består av 60000 exempel i 28*28 pixelformat\n",
        "#Se test data\n",
        "print(\"Testbilder: \", test_img.shape, \"Testetiketter: \", test_labels.shape) #består av 10000 exempel i 28*28 format\n",
        "#Skapa etiketter\n",
        "fashion_cat = ['T-shirt', 'Trousers', 'Pullover', 'Dress', 'Coat', 'Sandal','Shirt', 'Sneaker', 'Bag', 'Boot']"
      ],
      "execution_count": 5,
      "outputs": [
        {
          "output_type": "stream",
          "text": [
            "Träningsbilder:  (60000, 28, 28) Träningsetiketter:  (60000,)\n",
            "Testbilder:  (10000, 28, 28) Testetiketter:  (10000,)\n"
          ],
          "name": "stdout"
        }
      ]
    },
    {
      "cell_type": "markdown",
      "metadata": {
        "id": "-Z0EkEX4rePq",
        "colab_type": "text"
      },
      "source": [
        "#Förbered datan och normalisera. Encode etiketter"
      ]
    },
    {
      "cell_type": "code",
      "metadata": {
        "id": "RTDPvw3Yrj1R",
        "colab_type": "code",
        "outputId": "8599c4a4-fc26-4bf4-fe19-5a0ed3ce4f8d",
        "colab": {
          "base_uri": "https://localhost:8080/",
          "height": 104
        }
      },
      "source": [
        "import pandas as pd\n",
        "train_img = train_img.reshape(-1,28,28,1)\n",
        "print(train_img.shape)\n",
        "test_img = test_img.reshape(-1,28,28,1)\n",
        "print(test_img.shape)\n",
        "#Ändra typ till fl32\n",
        "train_img = train_img.astype('float32') / 255 #Normalisera pixeldimension från 0-255 till 0-1\n",
        "test_img = test_img.astype('float32') / 255\n",
        "#Encode etiketter\n",
        "from keras.utils import to_categorical\n",
        "train_labels = to_categorical(train_labels)\n",
        "test_labels = to_categorical(test_labels)\n",
        "print(train_labels.shape) #se output\n",
        "print(test_labels.shape)"
      ],
      "execution_count": 6,
      "outputs": [
        {
          "output_type": "stream",
          "text": [
            "(60000, 28, 28, 1)\n",
            "(10000, 28, 28, 1)\n",
            "(60000, 10)\n",
            "(10000, 10)\n"
          ],
          "name": "stdout"
        },
        {
          "output_type": "stream",
          "text": [
            "Using TensorFlow backend.\n"
          ],
          "name": "stderr"
        }
      ]
    },
    {
      "cell_type": "code",
      "metadata": {
        "id": "RslQhLTIS9jl",
        "colab_type": "code",
        "outputId": "0f937183-b766-4bf2-d2d3-9b584f255078",
        "colab": {
          "base_uri": "https://localhost:8080/",
          "height": 710
        }
      },
      "source": [
        "model = tf.keras.Sequential()\n",
        "#Lager ett med Conv2D (32 channels, 3X3 filter), Maxpooling. Använder padding och Dropout(0.3)\n",
        "model.add(tf.keras.layers.Conv2D(32, (3,3), padding='same', activation='relu', input_shape=(28, 28, 1)))\n",
        "model.add(tf.keras.layers.MaxPooling2D(pool_size=2))#storlek på poolingfönster\n",
        "model.add(tf.keras.layers.Dropout(0.3))\n",
        "#lager två med Conv2D (64 channels, 3X3 filter), Maxpooling. Använder padding och Dropout (0.3)\n",
        "model.add(tf.keras.layers.Conv2D(64, (3,3), padding='same', activation='relu'))\n",
        "model.add(tf.keras.layers.MaxPooling2D(pool_size=2))\n",
        "model.add(tf.keras.layers.Dropout(0.3))\n",
        "#lager tre med Conv2D (64 channels, 3X3 filter), Maxpooling. Använder padding och Dropout (0.3)\n",
        "model.add(tf.keras.layers.Conv2D(64, (3,3), padding='same', activation='relu'))\n",
        "model.add(tf.keras.layers.MaxPooling2D(pool_size=2))\n",
        "model.add(tf.keras.layers.Dropout(0.3))\n",
        "#lager fyra med Conv2D (64 channels, 3X3 filter), Maxpooling. Använder padding och Dropout (0.3)\n",
        "model.add(tf.keras.layers.Conv2D(64, (3,3), padding='same', activation='relu'))\n",
        "model.add(tf.keras.layers.MaxPooling2D(pool_size=2))\n",
        "model.add(tf.keras.layers.Dropout(0.3))\n",
        "#Flatten och classification\n",
        "model.add(tf.keras.layers.Flatten())\n",
        "model.add(tf.keras.layers.Dropout(0.3)) # lade till dropout för att regulera overfit\n",
        "model.add(tf.keras.layers.Dense(100)) #Dense är 100 neurons \"fully connected\"\n",
        "model.add(tf.keras.layers.Dense(10, activation= 'softmax'))#probabilty score (10 neurons) till kategorierna\n",
        "\n",
        "model.summary()"
      ],
      "execution_count": 8,
      "outputs": [
        {
          "output_type": "stream",
          "text": [
            "Model: \"sequential_1\"\n",
            "_________________________________________________________________\n",
            "Layer (type)                 Output Shape              Param #   \n",
            "=================================================================\n",
            "conv2d_4 (Conv2D)            (None, 28, 28, 32)        320       \n",
            "_________________________________________________________________\n",
            "max_pooling2d_4 (MaxPooling2 (None, 14, 14, 32)        0         \n",
            "_________________________________________________________________\n",
            "dropout_5 (Dropout)          (None, 14, 14, 32)        0         \n",
            "_________________________________________________________________\n",
            "conv2d_5 (Conv2D)            (None, 14, 14, 64)        18496     \n",
            "_________________________________________________________________\n",
            "max_pooling2d_5 (MaxPooling2 (None, 7, 7, 64)          0         \n",
            "_________________________________________________________________\n",
            "dropout_6 (Dropout)          (None, 7, 7, 64)          0         \n",
            "_________________________________________________________________\n",
            "conv2d_6 (Conv2D)            (None, 7, 7, 64)          36928     \n",
            "_________________________________________________________________\n",
            "max_pooling2d_6 (MaxPooling2 (None, 3, 3, 64)          0         \n",
            "_________________________________________________________________\n",
            "dropout_7 (Dropout)          (None, 3, 3, 64)          0         \n",
            "_________________________________________________________________\n",
            "conv2d_7 (Conv2D)            (None, 3, 3, 64)          36928     \n",
            "_________________________________________________________________\n",
            "max_pooling2d_7 (MaxPooling2 (None, 1, 1, 64)          0         \n",
            "_________________________________________________________________\n",
            "dropout_8 (Dropout)          (None, 1, 1, 64)          0         \n",
            "_________________________________________________________________\n",
            "flatten_1 (Flatten)          (None, 64)                0         \n",
            "_________________________________________________________________\n",
            "dropout_9 (Dropout)          (None, 64)                0         \n",
            "_________________________________________________________________\n",
            "dense_2 (Dense)              (None, 100)               6500      \n",
            "_________________________________________________________________\n",
            "dense_3 (Dense)              (None, 10)                1010      \n",
            "=================================================================\n",
            "Total params: 100,182\n",
            "Trainable params: 100,182\n",
            "Non-trainable params: 0\n",
            "_________________________________________________________________\n"
          ],
          "name": "stdout"
        }
      ]
    },
    {
      "cell_type": "markdown",
      "metadata": {
        "id": "uWtMTlAkY_G7",
        "colab_type": "text"
      },
      "source": [
        "# Kompilera modellen"
      ]
    },
    {
      "cell_type": "code",
      "metadata": {
        "id": "VNEKBqxkZF_F",
        "colab_type": "code",
        "colab": {}
      },
      "source": [
        "\n",
        "model.compile(optimizer='adam',#stochastic gradient decent, fungerade bättre än 'rmsprop'\n",
        "              loss='categorical_crossentropy', #loss funktion categorical (inte sparse_categorical_crossentropy labels får inte plats)\n",
        "              metrics=['accuracy'])"
      ],
      "execution_count": 0,
      "outputs": []
    },
    {
      "cell_type": "markdown",
      "metadata": {
        "id": "wbvm1sCyZ-8p",
        "colab_type": "text"
      },
      "source": [
        "# Training model med 20 epoch"
      ]
    },
    {
      "cell_type": "code",
      "metadata": {
        "id": "BoFl2LqCaDHk",
        "colab_type": "code",
        "outputId": "f8bdb428-495c-4962-d337-12c425aefea7",
        "colab": {
          "base_uri": "https://localhost:8080/",
          "height": 728
        }
      },
      "source": [
        "history = model.fit(train_img, train_labels, epochs=20) #20 epochs"
      ],
      "execution_count": 10,
      "outputs": [
        {
          "output_type": "stream",
          "text": [
            "Train on 60000 samples\n",
            "Epoch 1/20\n",
            "60000/60000 [==============================] - 101s 2ms/sample - loss: 0.7719 - acc: 0.7092\n",
            "Epoch 2/20\n",
            "60000/60000 [==============================] - 104s 2ms/sample - loss: 0.5157 - acc: 0.8124\n",
            "Epoch 3/20\n",
            "60000/60000 [==============================] - 104s 2ms/sample - loss: 0.4560 - acc: 0.8362\n",
            "Epoch 4/20\n",
            "60000/60000 [==============================] - 104s 2ms/sample - loss: 0.4192 - acc: 0.8505\n",
            "Epoch 5/20\n",
            "60000/60000 [==============================] - 104s 2ms/sample - loss: 0.4037 - acc: 0.8542\n",
            "Epoch 6/20\n",
            "60000/60000 [==============================] - 115s 2ms/sample - loss: 0.3905 - acc: 0.8607\n",
            "Epoch 7/20\n",
            "60000/60000 [==============================] - 116s 2ms/sample - loss: 0.3774 - acc: 0.8639\n",
            "Epoch 8/20\n",
            "60000/60000 [==============================] - 102s 2ms/sample - loss: 0.3668 - acc: 0.8677\n",
            "Epoch 9/20\n",
            "60000/60000 [==============================] - 101s 2ms/sample - loss: 0.3637 - acc: 0.8685\n",
            "Epoch 10/20\n",
            "60000/60000 [==============================] - 100s 2ms/sample - loss: 0.3544 - acc: 0.8721\n",
            "Epoch 11/20\n",
            "60000/60000 [==============================] - 100s 2ms/sample - loss: 0.3471 - acc: 0.8759\n",
            "Epoch 12/20\n",
            "60000/60000 [==============================] - 101s 2ms/sample - loss: 0.3424 - acc: 0.8777\n",
            "Epoch 13/20\n",
            "60000/60000 [==============================] - 100s 2ms/sample - loss: 0.3361 - acc: 0.8785\n",
            "Epoch 14/20\n",
            "60000/60000 [==============================] - 100s 2ms/sample - loss: 0.3316 - acc: 0.8804\n",
            "Epoch 15/20\n",
            "60000/60000 [==============================] - 102s 2ms/sample - loss: 0.3327 - acc: 0.8808\n",
            "Epoch 16/20\n",
            "60000/60000 [==============================] - 100s 2ms/sample - loss: 0.3266 - acc: 0.8823\n",
            "Epoch 17/20\n",
            "60000/60000 [==============================] - 100s 2ms/sample - loss: 0.3245 - acc: 0.8831\n",
            "Epoch 18/20\n",
            "60000/60000 [==============================] - 101s 2ms/sample - loss: 0.3206 - acc: 0.8840\n",
            "Epoch 19/20\n",
            "60000/60000 [==============================] - 100s 2ms/sample - loss: 0.3187 - acc: 0.8857\n",
            "Epoch 20/20\n",
            "60000/60000 [==============================] - 101s 2ms/sample - loss: 0.3175 - acc: 0.8874\n"
          ],
          "name": "stdout"
        }
      ]
    },
    {
      "cell_type": "markdown",
      "metadata": {
        "id": "ShndU16GklWr",
        "colab_type": "text"
      },
      "source": [
        "# Använd test data på modellen för att jämföra med träningsdata"
      ]
    },
    {
      "cell_type": "markdown",
      "metadata": {
        "id": "NPVS7_1zErU0",
        "colab_type": "text"
      },
      "source": [
        "#Plot accuracy och loss av träningsdatan"
      ]
    },
    {
      "cell_type": "code",
      "metadata": {
        "id": "Jj_8DyOHEwXQ",
        "colab_type": "code",
        "outputId": "085e0492-84de-439e-b53f-80012b842600",
        "colab": {
          "base_uri": "https://localhost:8080/",
          "height": 294
        }
      },
      "source": [
        "import matplotlib.pyplot as plt\n",
        "\n",
        "history_dict = history.history\n",
        "loss_values = history_dict['loss']\n",
        "acc_values = history_dict['acc']\n",
        "epochs = range(1, len(acc_values) + 1)\n",
        "plt.plot(epochs, loss_values, 'bo', label='Training loss')\n",
        "plt.plot(epochs, acc_values, 'b', label='Accuracy')\n",
        "plt.title('Training data and accuracy')\n",
        "plt.xlabel('Epochs')\n",
        "plt.ylabel('Result')\n",
        "plt.legend()\n",
        "plt.show()"
      ],
      "execution_count": 11,
      "outputs": [
        {
          "output_type": "display_data",
          "data": {
            "image/png": "[encoded data removed]",
            "text/plain": [
              "<Figure size 432x288 with 1 Axes>"
            ]
          },
          "metadata": {
            "tags": []
          }
        }
      ]
    },
    {
      "cell_type": "code",
      "metadata": {
        "id": "ZxYb6aGCkxnw",
        "colab_type": "code",
        "outputId": "4194bc8c-2115-4480-a210-55cc3bea178a",
        "colab": {
          "base_uri": "https://localhost:8080/",
          "height": 728
        }
      },
      "source": [
        "history2 = model.fit(test_img, test_labels, epochs=20) "
      ],
      "execution_count": 12,
      "outputs": [
        {
          "output_type": "stream",
          "text": [
            "Train on 10000 samples\n",
            "Epoch 1/20\n",
            "10000/10000 [==============================] - 17s 2ms/sample - loss: 0.3671 - acc: 0.8733\n",
            "Epoch 2/20\n",
            "10000/10000 [==============================] - 16s 2ms/sample - loss: 0.3505 - acc: 0.8755\n",
            "Epoch 3/20\n",
            "10000/10000 [==============================] - 17s 2ms/sample - loss: 0.3341 - acc: 0.8841\n",
            "Epoch 4/20\n",
            "10000/10000 [==============================] - 17s 2ms/sample - loss: 0.3328 - acc: 0.8824\n",
            "Epoch 5/20\n",
            "10000/10000 [==============================] - 17s 2ms/sample - loss: 0.3234 - acc: 0.8837\n",
            "Epoch 6/20\n",
            "10000/10000 [==============================] - 17s 2ms/sample - loss: 0.3281 - acc: 0.8813\n",
            "Epoch 7/20\n",
            "10000/10000 [==============================] - 17s 2ms/sample - loss: 0.3191 - acc: 0.8878\n",
            "Epoch 8/20\n",
            "10000/10000 [==============================] - 17s 2ms/sample - loss: 0.3203 - acc: 0.8863\n",
            "Epoch 9/20\n",
            "10000/10000 [==============================] - 17s 2ms/sample - loss: 0.3165 - acc: 0.8849\n",
            "Epoch 10/20\n",
            "10000/10000 [==============================] - 17s 2ms/sample - loss: 0.3095 - acc: 0.8914\n",
            "Epoch 11/20\n",
            "10000/10000 [==============================] - 17s 2ms/sample - loss: 0.3066 - acc: 0.8909\n",
            "Epoch 12/20\n",
            "10000/10000 [==============================] - 17s 2ms/sample - loss: 0.3038 - acc: 0.8912\n",
            "Epoch 13/20\n",
            "10000/10000 [==============================] - 17s 2ms/sample - loss: 0.3043 - acc: 0.8907\n",
            "Epoch 14/20\n",
            "10000/10000 [==============================] - 17s 2ms/sample - loss: 0.3020 - acc: 0.8923\n",
            "Epoch 15/20\n",
            "10000/10000 [==============================] - 17s 2ms/sample - loss: 0.2965 - acc: 0.8921\n",
            "Epoch 16/20\n",
            "10000/10000 [==============================] - 17s 2ms/sample - loss: 0.2991 - acc: 0.8891\n",
            "Epoch 17/20\n",
            "10000/10000 [==============================] - 17s 2ms/sample - loss: 0.2924 - acc: 0.8908\n",
            "Epoch 18/20\n",
            "10000/10000 [==============================] - 17s 2ms/sample - loss: 0.2880 - acc: 0.8962\n",
            "Epoch 19/20\n",
            "10000/10000 [==============================] - 17s 2ms/sample - loss: 0.3027 - acc: 0.8880\n",
            "Epoch 20/20\n",
            "10000/10000 [==============================] - 17s 2ms/sample - loss: 0.2854 - acc: 0.8959\n"
          ],
          "name": "stdout"
        }
      ]
    },
    {
      "cell_type": "markdown",
      "metadata": {
        "id": "zY7M2hLaLUxp",
        "colab_type": "text"
      },
      "source": [
        "#Plot accuaracy och loss av testdatan"
      ]
    },
    {
      "cell_type": "code",
      "metadata": {
        "id": "F9wfp-jkLYYA",
        "colab_type": "code",
        "outputId": "a7a19616-dc63-49ab-bad2-cb691f939499",
        "colab": {
          "base_uri": "https://localhost:8080/",
          "height": 294
        }
      },
      "source": [
        "import matplotlib.pyplot as plt\n",
        "\n",
        "history_dict = history2.history\n",
        "test_loss_values = history_dict['loss']\n",
        "test_acc_values = history_dict['acc']\n",
        "epochs = range(1, len(test_acc_values) + 1)\n",
        "plt.plot(epochs, test_loss_values, 'ro', label='Test loss')\n",
        "plt.plot(epochs, test_acc_values, 'r', label='Test Accuracy')\n",
        "plt.title('Test data and accuracy')\n",
        "plt.xlabel('Epochs')\n",
        "plt.ylabel('Result')\n",
        "plt.legend()\n",
        "plt.show()"
      ],
      "execution_count": 13,
      "outputs": [
        {
          "output_type": "display_data",
          "data": {
            "image/png": "[encoded data removed]",
            "text/plain": [
              "<Figure size 432x288 with 1 Axes>"
            ]
          },
          "metadata": {
            "tags": []
          }
        }
      ]
    },
    {
      "cell_type": "markdown",
      "metadata": {
        "id": "OusAbhfcTI3C",
        "colab_type": "text"
      },
      "source": [
        "#Evaluera och jämför training data med test data"
      ]
    },
    {
      "cell_type": "code",
      "metadata": {
        "colab_type": "code",
        "outputId": "aa6ab629-51e4-4faf-e8aa-2b15f8bf92dd",
        "id": "UoGqBpNzF70C",
        "colab": {
          "base_uri": "https://localhost:8080/",
          "height": 190
        }
      },
      "source": [
        "train_loss, train_acc = model.evaluate(train_img, train_labels)\n",
        "test_loss, test_acc = model.evaluate(test_img, test_labels)\n",
        "print('\\nTrain noggrannhet: ', round(train_acc*100, 2),'%')\n",
        "print('\\nTest noggrannhet: ', round(test_acc*100, 2),'%')\n",
        "\n",
        "print('\\nTrain loss: ', round(train_loss, 2),'%')\n",
        "print('\\nTest loss: ', round(test_loss, 2),'%')\n"
      ],
      "execution_count": 15,
      "outputs": [
        {
          "output_type": "stream",
          "text": [
            "60000/60000 [==============================] - 27s 442us/sample - loss: 0.2228 - acc: 0.9178\n",
            "10000/10000 [==============================] - 4s 429us/sample - loss: 0.1704 - acc: 0.9329\n",
            "\n",
            "Train noggrannhet:  91.78 %\n",
            "\n",
            "Test noggrannhet:  93.29 %\n",
            "\n",
            "Train loss:  0.22 %\n",
            "\n",
            "Test loss:  0.17 %\n"
          ],
          "name": "stdout"
        }
      ]
    }
  ]
}