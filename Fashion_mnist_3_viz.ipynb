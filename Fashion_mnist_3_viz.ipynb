{
  "nbformat": 4,
  "nbformat_minor": 0,
  "metadata": {
    "colab": {
      "name": "Fashion_mnist_3-viz.ipynb",
      "provenance": [],
      "collapsed_sections": [],
      "include_colab_link": true
    },
    "kernelspec": {
      "name": "python3",
      "display_name": "Python 3"
    }
  },
  "cells": [
    {
      "cell_type": "markdown",
      "metadata": {
        "id": "view-in-github",
        "colab_type": "text"
      },
      "source": [
        "<a href=\"https://colab.research.google.com/github/moomonkey/tf_lab/blob/master/Fashion_mnist_3_viz.ipynb\" target=\"_parent\"><img src=\"https://colab.research.google.com/assets/colab-badge.svg\" alt=\"Open In Colab\"/></a>"
      ]
    },
    {
      "cell_type": "markdown",
      "metadata": {
        "id": "9UUZbnatoytc",
        "colab_type": "text"
      },
      "source": [
        "# Denna kod använder Tensorflow, keras, med Fashion-mnist som databas\n",
        "\n",
        "# Denna kod är baserad på dokumentation i Francois Chollets \"Deep learning with Python\", tensorflow API, docs, och tutorials: https://www.tensorflow.org/tutorials/keras/basic_classification och Keras dokumentation, https://keras.io/examples/mnist_cnn/. Visualisering är inkluderad för att verifiera koden."
      ]
    },
    {
      "cell_type": "markdown",
      "metadata": {
        "id": "me5FZHjdX_K0",
        "colab_type": "text"
      },
      "source": [
        "# Imports"
      ]
    },
    {
      "cell_type": "code",
      "metadata": {
        "id": "1lcC8RBSrBXa",
        "colab_type": "code",
        "colab": {}
      },
      "source": [
        "import tensorflow as tf\n",
        "from tensorflow import keras\n",
        "import numpy as np\n",
        "import matplotlib.pyplot as plt\n",
        "%matplotlib inline"
      ],
      "execution_count": 0,
      "outputs": []
    },
    {
      "cell_type": "markdown",
      "metadata": {
        "id": "k1d1R4zRr547",
        "colab_type": "text"
      },
      "source": [
        "# Importera dataset Fashion-mnist, vilket har 10 kategorier, i träningsdata, träningslabel för att träna modellen, testdata och testlabels för att testa modellen"
      ]
    },
    {
      "cell_type": "code",
      "metadata": {
        "id": "wp8OzUiRsbzy",
        "colab_type": "code",
        "colab": {}
      },
      "source": [
        "fashion_mnist = tf.keras.datasets.fashion_mnist\n",
        "(train_img, train_labels), (test_img, test_labels) = tf.keras.datasets.fashion_mnist.load_data()"
      ],
      "execution_count": 0,
      "outputs": []
    },
    {
      "cell_type": "markdown",
      "metadata": {
        "id": "2eurV1qTynVO",
        "colab_type": "text"
      },
      "source": [
        "# Se träningsdata och testdata"
      ]
    },
    {
      "cell_type": "code",
      "metadata": {
        "id": "HeAW2tGIy2tt",
        "colab_type": "code",
        "outputId": "d28170e5-9aff-47a1-bb82-341c3769784e",
        "colab": {
          "base_uri": "https://localhost:8080/",
          "height": 52
        }
      },
      "source": [
        "print(\"Träningsbilder: \", train_img.shape, \"Träningsetiketter: \", train_labels.shape) #består av 60000 exempel i 28*28 pixelformat\n",
        "#Se test data\n",
        "print(\"Testbilder: \", test_img.shape, \"Testetiketter: \", test_labels.shape) #består av 10000 exempel i 28*28 format\n",
        "#Skapa etiketter\n",
        "fashion_cat = ['T-shirt', 'Trousers', 'Pullover', 'Dress', 'Coat', 'Sandal','Shirt', 'Sneaker', 'Bag', 'Boot']"
      ],
      "execution_count": 9,
      "outputs": [
        {
          "output_type": "stream",
          "text": [
            "Träningsbilder:  (60000, 28, 28) Träningsetiketter:  (60000,)\n",
            "Testbilder:  (10000, 28, 28) Testetiketter:  (10000,)\n"
          ],
          "name": "stdout"
        }
      ]
    },
    {
      "cell_type": "markdown",
      "metadata": {
        "id": "-Z0EkEX4rePq",
        "colab_type": "text"
      },
      "source": [
        "#Förbered datan och normalisera. Encode etiketter"
      ]
    },
    {
      "cell_type": "code",
      "metadata": {
        "id": "RTDPvw3Yrj1R",
        "colab_type": "code",
        "outputId": "c56d3131-3819-4c92-c92b-6e67098a6e35",
        "colab": {
          "base_uri": "https://localhost:8080/",
          "height": 86
        }
      },
      "source": [
        "import pandas as pd\n",
        "train_img = train_img.reshape(-1,28,28,1)\n",
        "print(train_img.shape)\n",
        "test_img = test_img.reshape(-1,28,28,1)\n",
        "print(test_img.shape)\n",
        "#Ändra typ till fl32\n",
        "train_img = train_img.astype('float32') / 255 #Normalisera pixeldimension från 0-255 till 0-1\n",
        "test_img = test_img.astype('float32') / 255\n",
        "#Encode etiketter\n",
        "from keras.utils import to_categorical\n",
        "train_labels = to_categorical(train_labels)\n",
        "test_labels = to_categorical(test_labels)\n",
        "print(train_labels.shape) #se output\n",
        "print(test_labels.shape)"
      ],
      "execution_count": 10,
      "outputs": [
        {
          "output_type": "stream",
          "text": [
            "(60000, 28, 28, 1)\n",
            "(10000, 28, 28, 1)\n",
            "(60000, 10)\n",
            "(10000, 10)\n"
          ],
          "name": "stdout"
        }
      ]
    },
    {
      "cell_type": "code",
      "metadata": {
        "id": "RslQhLTIS9jl",
        "colab_type": "code",
        "outputId": "15448dc0-98d0-42c4-d03e-e6aded0dba49",
        "colab": {
          "base_uri": "https://localhost:8080/",
          "height": 710
        }
      },
      "source": [
        "model = tf.keras.Sequential()\n",
        "#Lager ett med Conv2D (32 channels, 3X3 filter), Maxpooling. Använder padding och Dropout(0.3)\n",
        "model.add(tf.keras.layers.Conv2D(32, (3,3), padding='same', activation='relu', input_shape=(28, 28, 1)))\n",
        "model.add(tf.keras.layers.MaxPooling2D(pool_size=2))#storlek på poolingfönster\n",
        "model.add(tf.keras.layers.Dropout(0.3))\n",
        "#lager två med Conv2D (64 channels, 3X3 filter), Maxpooling. Använder padding och Dropout (0.3)\n",
        "model.add(tf.keras.layers.Conv2D(64, (3,3), padding='same', activation='relu'))\n",
        "model.add(tf.keras.layers.MaxPooling2D(pool_size=2))\n",
        "model.add(tf.keras.layers.Dropout(0.3))\n",
        "#lager tre med Conv2D (64 channels, 3X3 filter), Maxpooling. Använder padding och Dropout (0.3)\n",
        "model.add(tf.keras.layers.Conv2D(64, (3,3), padding='same', activation='relu'))\n",
        "model.add(tf.keras.layers.MaxPooling2D(pool_size=2))\n",
        "model.add(tf.keras.layers.Dropout(0.3))\n",
        "#lager fyra med Conv2D (64 channels, 3X3 filter), Maxpooling. Använder padding och Dropout (0.3)\n",
        "model.add(tf.keras.layers.Conv2D(64, (3,3), padding='same', activation='relu'))\n",
        "model.add(tf.keras.layers.MaxPooling2D(pool_size=2))\n",
        "model.add(tf.keras.layers.Dropout(0.3))\n",
        "#Flatten och classification\n",
        "model.add(tf.keras.layers.Flatten())\n",
        "model.add(tf.keras.layers.Dropout(0.3)) # lade till dropout för att regulera overfit\n",
        "model.add(tf.keras.layers.Dense(100)) #Dense är 100 neurons \"fully connected\"\n",
        "model.add(tf.keras.layers.Dense(10, activation= 'softmax'))#probabilty score (10 neurons) till kategorierna\n",
        "\n",
        "model.summary()"
      ],
      "execution_count": 12,
      "outputs": [
        {
          "output_type": "stream",
          "text": [
            "Model: \"sequential_3\"\n",
            "_________________________________________________________________\n",
            "Layer (type)                 Output Shape              Param #   \n",
            "=================================================================\n",
            "conv2d (Conv2D)              (None, 28, 28, 32)        320       \n",
            "_________________________________________________________________\n",
            "max_pooling2d_3 (MaxPooling2 (None, 14, 14, 32)        0         \n",
            "_________________________________________________________________\n",
            "dropout (Dropout)            (None, 14, 14, 32)        0         \n",
            "_________________________________________________________________\n",
            "conv2d_1 (Conv2D)            (None, 14, 14, 64)        18496     \n",
            "_________________________________________________________________\n",
            "max_pooling2d_4 (MaxPooling2 (None, 7, 7, 64)          0         \n",
            "_________________________________________________________________\n",
            "dropout_1 (Dropout)          (None, 7, 7, 64)          0         \n",
            "_________________________________________________________________\n",
            "conv2d_2 (Conv2D)            (None, 7, 7, 64)          36928     \n",
            "_________________________________________________________________\n",
            "max_pooling2d_5 (MaxPooling2 (None, 3, 3, 64)          0         \n",
            "_________________________________________________________________\n",
            "dropout_2 (Dropout)          (None, 3, 3, 64)          0         \n",
            "_________________________________________________________________\n",
            "conv2d_3 (Conv2D)            (None, 3, 3, 64)          36928     \n",
            "_________________________________________________________________\n",
            "max_pooling2d_6 (MaxPooling2 (None, 1, 1, 64)          0         \n",
            "_________________________________________________________________\n",
            "dropout_3 (Dropout)          (None, 1, 1, 64)          0         \n",
            "_________________________________________________________________\n",
            "flatten (Flatten)            (None, 64)                0         \n",
            "_________________________________________________________________\n",
            "dropout_4 (Dropout)          (None, 64)                0         \n",
            "_________________________________________________________________\n",
            "dense (Dense)                (None, 100)               6500      \n",
            "_________________________________________________________________\n",
            "dense_1 (Dense)              (None, 10)                1010      \n",
            "=================================================================\n",
            "Total params: 100,182\n",
            "Trainable params: 100,182\n",
            "Non-trainable params: 0\n",
            "_________________________________________________________________\n"
          ],
          "name": "stdout"
        }
      ]
    },
    {
      "cell_type": "markdown",
      "metadata": {
        "id": "uWtMTlAkY_G7",
        "colab_type": "text"
      },
      "source": [
        "# Kompilera modellen"
      ]
    },
    {
      "cell_type": "code",
      "metadata": {
        "id": "VNEKBqxkZF_F",
        "colab_type": "code",
        "colab": {}
      },
      "source": [
        "\n",
        "model.compile(optimizer='adam',#stochastic gradient decent, fungerade bättre än 'rmsprop'\n",
        "              loss='categorical_crossentropy', #loss funktion categorical (inte sparse_categorical_crossentropy labels får inte plats)\n",
        "              metrics=['accuracy'])"
      ],
      "execution_count": 0,
      "outputs": []
    },
    {
      "cell_type": "markdown",
      "metadata": {
        "id": "wbvm1sCyZ-8p",
        "colab_type": "text"
      },
      "source": [
        "# Training model med 20 epoch"
      ]
    },
    {
      "cell_type": "code",
      "metadata": {
        "id": "BoFl2LqCaDHk",
        "colab_type": "code",
        "outputId": "505653a4-c732-4f66-c9e3-e6013dcafb01",
        "colab": {
          "base_uri": "https://localhost:8080/",
          "height": 728
        }
      },
      "source": [
        "history = model.fit(train_img, train_labels, epochs=20) #20 epochs"
      ],
      "execution_count": 16,
      "outputs": [
        {
          "output_type": "stream",
          "text": [
            "Train on 60000 samples\n",
            "Epoch 1/20\n",
            "60000/60000 [==============================] - 99s 2ms/sample - loss: 0.7421 - acc: 0.7223\n",
            "Epoch 2/20\n",
            "60000/60000 [==============================] - 99s 2ms/sample - loss: 0.5006 - acc: 0.8187\n",
            "Epoch 3/20\n",
            "60000/60000 [==============================] - 99s 2ms/sample - loss: 0.4461 - acc: 0.8393\n",
            "Epoch 4/20\n",
            "60000/60000 [==============================] - 98s 2ms/sample - loss: 0.4162 - acc: 0.8499\n",
            "Epoch 5/20\n",
            "60000/60000 [==============================] - 98s 2ms/sample - loss: 0.3953 - acc: 0.8587\n",
            "Epoch 6/20\n",
            "60000/60000 [==============================] - 99s 2ms/sample - loss: 0.3790 - acc: 0.8632\n",
            "Epoch 7/20\n",
            "60000/60000 [==============================] - 99s 2ms/sample - loss: 0.3728 - acc: 0.8676\n",
            "Epoch 8/20\n",
            "60000/60000 [==============================] - 99s 2ms/sample - loss: 0.3662 - acc: 0.8693\n",
            "Epoch 9/20\n",
            "60000/60000 [==============================] - 99s 2ms/sample - loss: 0.3536 - acc: 0.8730\n",
            "Epoch 10/20\n",
            "60000/60000 [==============================] - 99s 2ms/sample - loss: 0.3461 - acc: 0.8753\n",
            "Epoch 11/20\n",
            "60000/60000 [==============================] - 100s 2ms/sample - loss: 0.3386 - acc: 0.8777\n",
            "Epoch 12/20\n",
            "60000/60000 [==============================] - 100s 2ms/sample - loss: 0.3417 - acc: 0.8787\n",
            "Epoch 13/20\n",
            "60000/60000 [==============================] - 98s 2ms/sample - loss: 0.3340 - acc: 0.8796\n",
            "Epoch 14/20\n",
            "60000/60000 [==============================] - 99s 2ms/sample - loss: 0.3307 - acc: 0.8823\n",
            "Epoch 15/20\n",
            "60000/60000 [==============================] - 99s 2ms/sample - loss: 0.3291 - acc: 0.8832\n",
            "Epoch 16/20\n",
            "60000/60000 [==============================] - 99s 2ms/sample - loss: 0.3282 - acc: 0.8829\n",
            "Epoch 17/20\n",
            "60000/60000 [==============================] - 98s 2ms/sample - loss: 0.3226 - acc: 0.8862\n",
            "Epoch 18/20\n",
            "60000/60000 [==============================] - 98s 2ms/sample - loss: 0.3187 - acc: 0.8871\n",
            "Epoch 19/20\n",
            "60000/60000 [==============================] - 98s 2ms/sample - loss: 0.3168 - acc: 0.8865\n",
            "Epoch 20/20\n",
            "60000/60000 [==============================] - 98s 2ms/sample - loss: 0.3138 - acc: 0.8892\n"
          ],
          "name": "stdout"
        }
      ]
    },
    {
      "cell_type": "markdown",
      "metadata": {
        "id": "ShndU16GklWr",
        "colab_type": "text"
      },
      "source": [
        "# Använd test data på modellen för att jämföra med träningsdata"
      ]
    },
    {
      "cell_type": "markdown",
      "metadata": {
        "id": "NPVS7_1zErU0",
        "colab_type": "text"
      },
      "source": [
        "#Plot accuracy och loss av träningsdatan"
      ]
    },
    {
      "cell_type": "code",
      "metadata": {
        "id": "Jj_8DyOHEwXQ",
        "colab_type": "code",
        "outputId": "9634ffc8-b3ef-4f30-cd1c-c84e7c8b490c",
        "colab": {
          "base_uri": "https://localhost:8080/",
          "height": 294
        }
      },
      "source": [
        "import matplotlib.pyplot as plt\n",
        "\n",
        "history_dict = history.history\n",
        "loss_values = history_dict['loss']\n",
        "acc_values = history_dict['acc']\n",
        "epochs = range(1, len(acc_values) + 1)\n",
        "plt.plot(epochs, loss_values, 'bo', label='Training loss')\n",
        "plt.plot(epochs, acc_values, 'b', label='Accuracy')\n",
        "plt.title('Training data and accuracy')\n",
        "plt.xlabel('Epochs')\n",
        "plt.ylabel('Loss')\n",
        "plt.legend()\n",
        "plt.show()"
      ],
      "execution_count": 17,
      "outputs": [
        {
          "output_type": "display_data",
          "data": {
            "image/png": "[encoded data removed]",
            "text/plain": [
              "<Figure size 432x288 with 1 Axes>"
            ]
          },
          "metadata": {
            "tags": []
          }
        }
      ]
    },
    {
      "cell_type": "code",
      "metadata": {
        "id": "ZxYb6aGCkxnw",
        "colab_type": "code",
        "outputId": "224a53de-a438-42fd-c87f-108ec032d7b4",
        "colab": {
          "base_uri": "https://localhost:8080/",
          "height": 728
        }
      },
      "source": [
        "history2 = model.fit(test_img, test_labels, epochs=20) "
      ],
      "execution_count": 18,
      "outputs": [
        {
          "output_type": "stream",
          "text": [
            "Train on 10000 samples\n",
            "Epoch 1/20\n",
            "10000/10000 [==============================] - 16s 2ms/sample - loss: 0.3505 - acc: 0.8745\n",
            "Epoch 2/20\n",
            "10000/10000 [==============================] - 16s 2ms/sample - loss: 0.3544 - acc: 0.8770\n",
            "Epoch 3/20\n",
            "10000/10000 [==============================] - 16s 2ms/sample - loss: 0.3395 - acc: 0.8815\n",
            "Epoch 4/20\n",
            "10000/10000 [==============================] - 16s 2ms/sample - loss: 0.3318 - acc: 0.8846\n",
            "Epoch 5/20\n",
            "10000/10000 [==============================] - 16s 2ms/sample - loss: 0.3345 - acc: 0.8843\n",
            "Epoch 6/20\n",
            "10000/10000 [==============================] - 17s 2ms/sample - loss: 0.3326 - acc: 0.8788\n",
            "Epoch 7/20\n",
            "10000/10000 [==============================] - 16s 2ms/sample - loss: 0.3140 - acc: 0.8873\n",
            "Epoch 8/20\n",
            "10000/10000 [==============================] - 16s 2ms/sample - loss: 0.3163 - acc: 0.8858\n",
            "Epoch 9/20\n",
            "10000/10000 [==============================] - 16s 2ms/sample - loss: 0.3130 - acc: 0.8883\n",
            "Epoch 10/20\n",
            "10000/10000 [==============================] - 16s 2ms/sample - loss: 0.3049 - acc: 0.8900\n",
            "Epoch 11/20\n",
            "10000/10000 [==============================] - 16s 2ms/sample - loss: 0.3126 - acc: 0.8866\n",
            "Epoch 12/20\n",
            "10000/10000 [==============================] - 17s 2ms/sample - loss: 0.2999 - acc: 0.8924\n",
            "Epoch 13/20\n",
            "10000/10000 [==============================] - 17s 2ms/sample - loss: 0.3095 - acc: 0.8867\n",
            "Epoch 14/20\n",
            "10000/10000 [==============================] - 16s 2ms/sample - loss: 0.3046 - acc: 0.8891\n",
            "Epoch 15/20\n",
            "10000/10000 [==============================] - 16s 2ms/sample - loss: 0.2883 - acc: 0.8957\n",
            "Epoch 16/20\n",
            "10000/10000 [==============================] - 16s 2ms/sample - loss: 0.2894 - acc: 0.8950\n",
            "Epoch 17/20\n",
            "10000/10000 [==============================] - 16s 2ms/sample - loss: 0.3000 - acc: 0.8949\n",
            "Epoch 18/20\n",
            "10000/10000 [==============================] - 16s 2ms/sample - loss: 0.2974 - acc: 0.8897\n",
            "Epoch 19/20\n",
            "10000/10000 [==============================] - 16s 2ms/sample - loss: 0.2860 - acc: 0.8968\n",
            "Epoch 20/20\n",
            "10000/10000 [==============================] - 16s 2ms/sample - loss: 0.2807 - acc: 0.8969\n"
          ],
          "name": "stdout"
        }
      ]
    },
    {
      "cell_type": "markdown",
      "metadata": {
        "id": "zY7M2hLaLUxp",
        "colab_type": "text"
      },
      "source": [
        "#Plot accuaracy och loss av testdatan"
      ]
    },
    {
      "cell_type": "code",
      "metadata": {
        "id": "F9wfp-jkLYYA",
        "colab_type": "code",
        "outputId": "8891a6f2-053a-48ee-bb00-00c5954296ab",
        "colab": {
          "base_uri": "https://localhost:8080/",
          "height": 294
        }
      },
      "source": [
        "import matplotlib.pyplot as plt\n",
        "\n",
        "history_dict = history2.history\n",
        "test_loss_values = history_dict['loss']\n",
        "test_acc_values = history_dict['acc']\n",
        "epochs = range(1, len(test_acc_values) + 1)\n",
        "plt.plot(epochs, test_loss_values, 'ro', label='Test loss')\n",
        "plt.plot(epochs, test_acc_values, 'r', label='Test Accuracy')\n",
        "plt.title('Test data and accuracy')\n",
        "plt.xlabel('Epochs')\n",
        "plt.ylabel('Loss')\n",
        "plt.legend()\n",
        "plt.show()"
      ],
      "execution_count": 19,
      "outputs": [
        {
          "output_type": "display_data",
          "data": {
            "image/png": "[encoded data removed]",
            "text/plain": [
              "<Figure size 432x288 with 1 Axes>"
            ]
          },
          "metadata": {
            "tags": []
          }
        }
      ]
    },
    {
      "cell_type": "markdown",
      "metadata": {
        "id": "OusAbhfcTI3C",
        "colab_type": "text"
      },
      "source": [
        "#Evaluera och jämför training data med test data"
      ]
    },
    {
      "cell_type": "code",
      "metadata": {
        "colab_type": "code",
        "outputId": "725514cd-3ff2-4816-bc76-92f98ac14352",
        "id": "UoGqBpNzF70C",
        "colab": {
          "base_uri": "https://localhost:8080/",
          "height": 190
        }
      },
      "source": [
        "train_loss, train_acc = model.evaluate(train_img, train_labels)\n",
        "test_loss, test_acc = model.evaluate(test_img, test_labels)\n",
        "print('\\nTrain noggrannhet: ', round(train_acc*100, 2),'%')\n",
        "print('\\nTest noggrannhet: ', round(test_acc*100, 2),'%')\n",
        "\n",
        "print('\\nTrain loss: ', round(train_loss, 2),'%')\n",
        "print('\\nTest loss: ', round(test_loss, 2),'%')\n"
      ],
      "execution_count": 20,
      "outputs": [
        {
          "output_type": "stream",
          "text": [
            "60000/60000 [==============================] - 26s 441us/sample - loss: 0.2126 - acc: 0.9201\n",
            "10000/10000 [==============================] - 4s 436us/sample - loss: 0.1584 - acc: 0.9394\n",
            "\n",
            "Train noggrannhet:  92.01 %\n",
            "\n",
            "Test noggrannhet:  93.94 %\n",
            "\n",
            "Train loss:  0.21 %\n",
            "\n",
            "Test loss:  0.16 %\n"
          ],
          "name": "stdout"
        }
      ]
    }
  ]
}