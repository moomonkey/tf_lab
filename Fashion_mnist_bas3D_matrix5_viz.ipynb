{
  "nbformat": 4,
  "nbformat_minor": 0,
  "metadata": {
    "colab": {
      "name": "Fashion_mnist_bas3D_matrix5-viz.ipynb",
      "provenance": [],
      "collapsed_sections": [],
      "include_colab_link": true
    },
    "kernelspec": {
      "name": "python3",
      "display_name": "Python 3"
    }
  },
  "cells": [
    {
      "cell_type": "markdown",
      "metadata": {
        "id": "view-in-github",
        "colab_type": "text"
      },
      "source": [
        "<a href=\"https://colab.research.google.com/github/moomonkey/tf_lab/blob/master/Fashion_mnist_bas3D_matrix5_viz.ipynb\" target=\"_parent\"><img src=\"https://colab.research.google.com/assets/colab-badge.svg\" alt=\"Open In Colab\"/></a>"
      ]
    },
    {
      "cell_type": "markdown",
      "metadata": {
        "id": "9UUZbnatoytc",
        "colab_type": "text"
      },
      "source": [
        "# Denna kod använder keras och tf, med Fashion-mnist databas\n",
        "\n",
        "# Denna kod är baserad på dokumentation i Francois Chollets \"Deep learning with Python\", tensorflow API, docs, och tutorials: https://www.tensorflow.org/tutorials/keras/basic_classification, Margaret Maynard-Reids https://medium.com/tensorflow/hello-deep-learning-fashion-mnist-with-keras-50fcff8cd74a, och Keras dokumentation, https://keras.io/examples/mnist_cnn/. Visualisering är inkluderad för att verifiera koden."
      ]
    },
    {
      "cell_type": "markdown",
      "metadata": {
        "id": "me5FZHjdX_K0",
        "colab_type": "text"
      },
      "source": [
        "# Imports"
      ]
    },
    {
      "cell_type": "code",
      "metadata": {
        "id": "1lcC8RBSrBXa",
        "colab_type": "code",
        "colab": {}
      },
      "source": [
        "import tensorflow as tf\n",
        "from tensorflow import keras\n",
        "import numpy as np\n",
        "import matplotlib.pyplot as plt\n",
        "%matplotlib inline"
      ],
      "execution_count": 0,
      "outputs": []
    },
    {
      "cell_type": "markdown",
      "metadata": {
        "id": "k1d1R4zRr547",
        "colab_type": "text"
      },
      "source": [
        "# Importera dataset Fashion-mnist, vilket har 10 kategorier, i träningsdata, träningslabel för att träna modellen, testdata och testlabels för att testa modellen"
      ]
    },
    {
      "cell_type": "code",
      "metadata": {
        "id": "wp8OzUiRsbzy",
        "colab_type": "code",
        "colab": {}
      },
      "source": [
        "fashion_mnist = tf.keras.datasets.fashion_mnist\n",
        "(train_img, train_labels), (test_img, test_labels) = tf.keras.datasets.fashion_mnist.load_data()"
      ],
      "execution_count": 0,
      "outputs": []
    },
    {
      "cell_type": "markdown",
      "metadata": {
        "id": "2eurV1qTynVO",
        "colab_type": "text"
      },
      "source": [
        "# Se träningsdata"
      ]
    },
    {
      "cell_type": "code",
      "metadata": {
        "id": "HeAW2tGIy2tt",
        "colab_type": "code",
        "outputId": "ef188294-91a2-4f54-b009-b08958e9ee60",
        "colab": {
          "base_uri": "https://localhost:8080/",
          "height": 34
        }
      },
      "source": [
        "print(\"Träningsbilder: \", train_img.shape, \"Träningsetiketter: \", train_labels.shape) #består av 60000 exempel i 28*28 pixelformat"
      ],
      "execution_count": 207,
      "outputs": [
        {
          "output_type": "stream",
          "text": [
            "Träningsbilder:  (60000, 28, 28) Träningsetiketter:  (60000,)\n"
          ],
          "name": "stdout"
        }
      ]
    },
    {
      "cell_type": "markdown",
      "metadata": {
        "id": "sUKSApx95epM",
        "colab_type": "text"
      },
      "source": [
        "# Se testdatan"
      ]
    },
    {
      "cell_type": "code",
      "metadata": {
        "id": "DFAY8o_R5nrI",
        "colab_type": "code",
        "outputId": "df2d8752-3ad3-476a-ea11-0484aa5648d9",
        "colab": {
          "base_uri": "https://localhost:8080/",
          "height": 34
        }
      },
      "source": [
        "print(\"Testbilder: \", test_img.shape, \"Testetiketter: \", test_labels.shape) #består av 10000 exempel i 28*28 format"
      ],
      "execution_count": 208,
      "outputs": [
        {
          "output_type": "stream",
          "text": [
            "Testbilder:  (10000, 28, 28) Testetiketter:  (10000,)\n"
          ],
          "name": "stdout"
        }
      ]
    },
    {
      "cell_type": "markdown",
      "metadata": {
        "id": "Sz3cIhKQ0SRG",
        "colab_type": "text"
      },
      "source": [
        "# Se första bilden i datasetet och pixelvärdet"
      ]
    },
    {
      "cell_type": "code",
      "metadata": {
        "id": "YZzszkEv0ej_",
        "colab_type": "code",
        "outputId": "b534b7ac-04c1-4060-9533-51dbd42b880e",
        "colab": {
          "base_uri": "https://localhost:8080/",
          "height": 286
        }
      },
      "source": [
        "print(plt.imshow(train_img[0]), plt.colorbar())"
      ],
      "execution_count": 209,
      "outputs": [
        {
          "output_type": "stream",
          "text": [
            "AxesImage(54,36;267.84x217.44) <matplotlib.colorbar.Colorbar object at 0x7f58dd5335c0>\n"
          ],
          "name": "stdout"
        },
        {
          "output_type": "display_data",
          "data": {
            "image/png": "[encoded data removed]",
            "text/plain": [
              "<Figure size 432x288 with 2 Axes>"
            ]
          },
          "metadata": {
            "tags": []
          }
        }
      ]
    },
    {
      "cell_type": "markdown",
      "metadata": {
        "id": "XdBoMwmf3ri2",
        "colab_type": "text"
      },
      "source": [
        "# Skapa etiketter för datasetets kategorier"
      ]
    },
    {
      "cell_type": "code",
      "metadata": {
        "id": "yjJGUZI-33dy",
        "colab_type": "code",
        "colab": {}
      },
      "source": [
        "fashion_cat = ['T-shirt', 'Trousers', 'Pullover', 'Dress', 'Coat', 'Sandal','Shirt', 'Sneaker', 'Bag', 'Boot']"
      ],
      "execution_count": 0,
      "outputs": []
    },
    {
      "cell_type": "markdown",
      "metadata": {
        "id": "5XxajXNZY78w",
        "colab_type": "text"
      },
      "source": [
        "#Visa bilder med kategorier"
      ]
    },
    {
      "cell_type": "code",
      "metadata": {
        "id": "oZPUZm9L6p6-",
        "colab_type": "code",
        "outputId": "7e1a4f12-e3d6-4696-9a03-b72f2ed65fc0",
        "colab": {
          "base_uri": "https://localhost:8080/",
          "height": 195
        }
      },
      "source": [
        "plt.figure(figsize=(6,3)) #utan prediction\n",
        "for i in range(10):\n",
        "    plt.subplot(2,5,i+1)\n",
        "    plt.xticks([])\n",
        "    plt.yticks([])\n",
        "    plt.grid(False)\n",
        "    plt.imshow(train_img[i], cmap=plt.cm.binary)\n",
        "    plt.xlabel(fashion_cat[i-1])\n",
        "plt.show()"
      ],
      "execution_count": 211,
      "outputs": [
        {
          "output_type": "display_data",
          "data": {
            "image/png": "[encoded data removed]",
            "text/plain": [
              "<Figure size 432x216 with 10 Axes>"
            ]
          },
          "metadata": {
            "tags": []
          }
        }
      ]
    },
    {
      "cell_type": "markdown",
      "metadata": {
        "id": "-Z0EkEX4rePq",
        "colab_type": "text"
      },
      "source": [
        "#Förbered datans form. Normalize data"
      ]
    },
    {
      "cell_type": "code",
      "metadata": {
        "id": "RTDPvw3Yrj1R",
        "colab_type": "code",
        "colab": {
          "base_uri": "https://localhost:8080/",
          "height": 51
        },
        "outputId": "182f69c5-2e42-4ebb-cec0-85a19c321226"
      },
      "source": [
        "import pandas as pd\n",
        "train_img = train_img.reshape(-1,28,28,1)\n",
        "print(train_img.shape)\n",
        "test_img = test_img.reshape(-1,28,28,1)\n",
        "print(test_img.shape)\n",
        "#Ändra typ till fl32\n",
        "train_img = train_img.astype('float32') / 255 #Normalisera pixeldimension från 0-255 till 0-1\n",
        "test_img = test_img.astype('float32') / 255"
      ],
      "execution_count": 212,
      "outputs": [
        {
          "output_type": "stream",
          "text": [
            "(60000, 28, 28, 1)\n",
            "(10000, 28, 28, 1)\n"
          ],
          "name": "stdout"
        }
      ]
    },
    {
      "cell_type": "markdown",
      "metadata": {
        "id": "81t1zyj5k_Qu",
        "colab_type": "text"
      },
      "source": [
        "#Encode etiketter"
      ]
    },
    {
      "cell_type": "code",
      "metadata": {
        "id": "JW7KV1TTlD8a",
        "colab_type": "code",
        "colab": {}
      },
      "source": [
        "from keras.utils import to_categorical\n",
        "train_labels = to_categorical(train_labels)\n",
        "test_labels = to_categorical(test_labels)"
      ],
      "execution_count": 0,
      "outputs": []
    },
    {
      "cell_type": "code",
      "metadata": {
        "id": "_10y6dJil5MP",
        "colab_type": "code",
        "outputId": "951f48cd-41a5-4ca2-d39a-e0bafb439300",
        "colab": {
          "base_uri": "https://localhost:8080/",
          "height": 51
        }
      },
      "source": [
        "print(train_labels.shape) #se output\n",
        "print(test_labels.shape)"
      ],
      "execution_count": 214,
      "outputs": [
        {
          "output_type": "stream",
          "text": [
            "(60000, 10)\n",
            "(10000, 10)\n"
          ],
          "name": "stdout"
        }
      ]
    },
    {
      "cell_type": "markdown",
      "metadata": {
        "id": "vDxyRrgzS23v",
        "colab_type": "text"
      },
      "source": [
        "# Definiera lager i modell"
      ]
    },
    {
      "cell_type": "code",
      "metadata": {
        "id": "RslQhLTIS9jl",
        "colab_type": "code",
        "outputId": "a123e346-7236-4c73-cd89-94f2d53f8cf0",
        "colab": {
          "base_uri": "https://localhost:8080/",
          "height": 493
        }
      },
      "source": [
        "model = tf.keras.Sequential()\n",
        "#Lager ett med max-pooling. Definiera input shape i första lagret\n",
        "model.add(tf.keras.layers.Conv2D(filters=32, kernel_size=2, padding='same', activation='relu', input_shape=(28, 28, 1))) #conv2D spatial conv av bilder\n",
        "model.add(tf.keras.layers.MaxPooling2D(pool_size=2))#storlek på poolingfönster\n",
        "model.add(tf.keras.layers.Dropout(0.3))\n",
        "#lager två med pooling\n",
        "model.add(tf.keras.layers.Conv2D(filters=64, kernel_size=2, padding='same', activation='relu'))\n",
        "model.add(tf.keras.layers.MaxPooling2D(pool_size=2))\n",
        "model.add(tf.keras.layers.Dropout(0.3))\n",
        "#Flatten\n",
        "model.add(tf.keras.layers.Flatten())\n",
        "model.add(tf.keras.layers.Dense(100, activation='relu')) #Dense är 100 neurons \"fully connected\"\n",
        "model.add(tf.keras.layers.Dropout(0.3)) # lade till dropout för att regulera overfit\n",
        "model.add(tf.keras.layers.Dense(10, activation= 'softmax'))#probabilty score (10 neurons) till kategorierna\n",
        "\n",
        "model.summary()"
      ],
      "execution_count": 222,
      "outputs": [
        {
          "output_type": "stream",
          "text": [
            "Model: \"sequential_8\"\n",
            "_________________________________________________________________\n",
            "Layer (type)                 Output Shape              Param #   \n",
            "=================================================================\n",
            "conv2d_15 (Conv2D)           (None, 28, 28, 32)        160       \n",
            "_________________________________________________________________\n",
            "max_pooling2d_15 (MaxPooling (None, 14, 14, 32)        0         \n",
            "_________________________________________________________________\n",
            "dropout_15 (Dropout)         (None, 14, 14, 32)        0         \n",
            "_________________________________________________________________\n",
            "conv2d_16 (Conv2D)           (None, 14, 14, 64)        8256      \n",
            "_________________________________________________________________\n",
            "max_pooling2d_16 (MaxPooling (None, 7, 7, 64)          0         \n",
            "_________________________________________________________________\n",
            "dropout_16 (Dropout)         (None, 7, 7, 64)          0         \n",
            "_________________________________________________________________\n",
            "flatten_7 (Flatten)          (None, 3136)              0         \n",
            "_________________________________________________________________\n",
            "dense_14 (Dense)             (None, 100)               313700    \n",
            "_________________________________________________________________\n",
            "dropout_17 (Dropout)         (None, 100)               0         \n",
            "_________________________________________________________________\n",
            "dense_15 (Dense)             (None, 10)                1010      \n",
            "=================================================================\n",
            "Total params: 323,126\n",
            "Trainable params: 323,126\n",
            "Non-trainable params: 0\n",
            "_________________________________________________________________\n"
          ],
          "name": "stdout"
        }
      ]
    },
    {
      "cell_type": "markdown",
      "metadata": {
        "id": "uWtMTlAkY_G7",
        "colab_type": "text"
      },
      "source": [
        "# Kompilera modellen"
      ]
    },
    {
      "cell_type": "code",
      "metadata": {
        "id": "VNEKBqxkZF_F",
        "colab_type": "code",
        "colab": {}
      },
      "source": [
        "\n",
        "model.compile(optimizer='adam',#stochastic gradient decent, fungerade bättre än 'rmsprop'\n",
        "              loss='categorical_crossentropy', #loss funktion categorical (inte sparse_categorical_crossentropy labels får inte plats)\n",
        "              metrics=['accuracy'])"
      ],
      "execution_count": 0,
      "outputs": []
    },
    {
      "cell_type": "markdown",
      "metadata": {
        "id": "wbvm1sCyZ-8p",
        "colab_type": "text"
      },
      "source": [
        "# Training model med epoch (iteration)"
      ]
    },
    {
      "cell_type": "code",
      "metadata": {
        "id": "BoFl2LqCaDHk",
        "colab_type": "code",
        "outputId": "d964131a-1e32-40c2-9664-091e42f73930",
        "colab": {
          "base_uri": "https://localhost:8080/",
          "height": 714
        }
      },
      "source": [
        "model.fit(train_img, train_labels, epochs=20) #overfitting med 10 epochs, 97-93%, loss blev mindre vid 7 epochs. Näst sista version med 20 epochs, overfit 99-95%, sista version med dropout: overfitting=97-93%, score 99%"
      ],
      "execution_count": 224,
      "outputs": [
        {
          "output_type": "stream",
          "text": [
            "Epoch 1/20\n",
            "60000/60000 [==============================] - 69s 1ms/sample - loss: 0.5549 - acc: 0.7956\n",
            "Epoch 2/20\n",
            "60000/60000 [==============================] - 68s 1ms/sample - loss: 0.3985 - acc: 0.8563\n",
            "Epoch 3/20\n",
            "60000/60000 [==============================] - 68s 1ms/sample - loss: 0.3526 - acc: 0.8708\n",
            "Epoch 4/20\n",
            "60000/60000 [==============================] - 69s 1ms/sample - loss: 0.3280 - acc: 0.8799\n",
            "Epoch 5/20\n",
            "60000/60000 [==============================] - 69s 1ms/sample - loss: 0.3106 - acc: 0.8863\n",
            "Epoch 6/20\n",
            "60000/60000 [==============================] - 70s 1ms/sample - loss: 0.2958 - acc: 0.8908\n",
            "Epoch 7/20\n",
            "60000/60000 [==============================] - 68s 1ms/sample - loss: 0.2806 - acc: 0.8957\n",
            "Epoch 8/20\n",
            "60000/60000 [==============================] - 69s 1ms/sample - loss: 0.2758 - acc: 0.8992\n",
            "Epoch 9/20\n",
            "60000/60000 [==============================] - 69s 1ms/sample - loss: 0.2655 - acc: 0.9026\n",
            "Epoch 10/20\n",
            "60000/60000 [==============================] - 68s 1ms/sample - loss: 0.2584 - acc: 0.9046\n",
            "Epoch 11/20\n",
            "60000/60000 [==============================] - 68s 1ms/sample - loss: 0.2510 - acc: 0.9051\n",
            "Epoch 12/20\n",
            "60000/60000 [==============================] - 68s 1ms/sample - loss: 0.2443 - acc: 0.9090\n",
            "Epoch 13/20\n",
            "60000/60000 [==============================] - 68s 1ms/sample - loss: 0.2406 - acc: 0.9103\n",
            "Epoch 14/20\n",
            "60000/60000 [==============================] - 68s 1ms/sample - loss: 0.2402 - acc: 0.9100\n",
            "Epoch 15/20\n",
            "60000/60000 [==============================] - 68s 1ms/sample - loss: 0.2327 - acc: 0.9129\n",
            "Epoch 16/20\n",
            "60000/60000 [==============================] - 69s 1ms/sample - loss: 0.2289 - acc: 0.9150\n",
            "Epoch 17/20\n",
            "60000/60000 [==============================] - 69s 1ms/sample - loss: 0.2282 - acc: 0.9154\n",
            "Epoch 18/20\n",
            "60000/60000 [==============================] - 69s 1ms/sample - loss: 0.2255 - acc: 0.9148\n",
            "Epoch 19/20\n",
            "60000/60000 [==============================] - 70s 1ms/sample - loss: 0.2194 - acc: 0.9180\n",
            "Epoch 20/20\n",
            "60000/60000 [==============================] - 69s 1ms/sample - loss: 0.2192 - acc: 0.9182\n"
          ],
          "name": "stdout"
        },
        {
          "output_type": "execute_result",
          "data": {
            "text/plain": [
              "<tensorflow.python.keras.callbacks.History at 0x7f58df0c7f98>"
            ]
          },
          "metadata": {
            "tags": []
          },
          "execution_count": 224
        }
      ]
    },
    {
      "cell_type": "markdown",
      "metadata": {
        "id": "ShndU16GklWr",
        "colab_type": "text"
      },
      "source": [
        "# Använd test data på modellen för att jämföra med träningsdata"
      ]
    },
    {
      "cell_type": "code",
      "metadata": {
        "id": "ZxYb6aGCkxnw",
        "colab_type": "code",
        "outputId": "fb02bfb3-4bc7-4382-db2b-ecf559a58139",
        "colab": {
          "base_uri": "https://localhost:8080/",
          "height": 714
        }
      },
      "source": [
        "model.fit(test_img, test_labels, epochs=20) "
      ],
      "execution_count": 225,
      "outputs": [
        {
          "output_type": "stream",
          "text": [
            "Epoch 1/20\n",
            "10000/10000 [==============================] - 12s 1ms/sample - loss: 0.2999 - acc: 0.8948\n",
            "Epoch 2/20\n",
            "10000/10000 [==============================] - 12s 1ms/sample - loss: 0.2839 - acc: 0.8977\n",
            "Epoch 3/20\n",
            "10000/10000 [==============================] - 11s 1ms/sample - loss: 0.2611 - acc: 0.9014\n",
            "Epoch 4/20\n",
            "10000/10000 [==============================] - 12s 1ms/sample - loss: 0.2501 - acc: 0.9055\n",
            "Epoch 5/20\n",
            "10000/10000 [==============================] - 11s 1ms/sample - loss: 0.2409 - acc: 0.9106\n",
            "Epoch 6/20\n",
            "10000/10000 [==============================] - 11s 1ms/sample - loss: 0.2396 - acc: 0.9126\n",
            "Epoch 7/20\n",
            "10000/10000 [==============================] - 12s 1ms/sample - loss: 0.2293 - acc: 0.9140\n",
            "Epoch 8/20\n",
            "10000/10000 [==============================] - 11s 1ms/sample - loss: 0.2221 - acc: 0.9171\n",
            "Epoch 9/20\n",
            "10000/10000 [==============================] - 11s 1ms/sample - loss: 0.2104 - acc: 0.9211\n",
            "Epoch 10/20\n",
            "10000/10000 [==============================] - 12s 1ms/sample - loss: 0.2067 - acc: 0.9207\n",
            "Epoch 11/20\n",
            "10000/10000 [==============================] - 11s 1ms/sample - loss: 0.2041 - acc: 0.9213\n",
            "Epoch 12/20\n",
            "10000/10000 [==============================] - 11s 1ms/sample - loss: 0.1985 - acc: 0.9260\n",
            "Epoch 13/20\n",
            "10000/10000 [==============================] - 11s 1ms/sample - loss: 0.1911 - acc: 0.9268\n",
            "Epoch 14/20\n",
            "10000/10000 [==============================] - 11s 1ms/sample - loss: 0.1893 - acc: 0.9278\n",
            "Epoch 15/20\n",
            "10000/10000 [==============================] - 12s 1ms/sample - loss: 0.1814 - acc: 0.9319\n",
            "Epoch 16/20\n",
            "10000/10000 [==============================] - 11s 1ms/sample - loss: 0.1801 - acc: 0.9301\n",
            "Epoch 17/20\n",
            "10000/10000 [==============================] - 11s 1ms/sample - loss: 0.1705 - acc: 0.9346\n",
            "Epoch 18/20\n",
            "10000/10000 [==============================] - 12s 1ms/sample - loss: 0.1650 - acc: 0.9376\n",
            "Epoch 19/20\n",
            "10000/10000 [==============================] - 11s 1ms/sample - loss: 0.1640 - acc: 0.9368\n",
            "Epoch 20/20\n",
            "10000/10000 [==============================] - 12s 1ms/sample - loss: 0.1598 - acc: 0.9388\n"
          ],
          "name": "stdout"
        },
        {
          "output_type": "execute_result",
          "data": {
            "text/plain": [
              "<tensorflow.python.keras.callbacks.History at 0x7f58df70de48>"
            ]
          },
          "metadata": {
            "tags": []
          },
          "execution_count": 225
        }
      ]
    },
    {
      "cell_type": "markdown",
      "metadata": {
        "id": "OusAbhfcTI3C",
        "colab_type": "text"
      },
      "source": [
        "#Evaluera och jämför training data med test data"
      ]
    },
    {
      "cell_type": "code",
      "metadata": {
        "id": "UkDa6l6ZTOL8",
        "colab_type": "code",
        "outputId": "b004bd11-b1d8-4925-f558-078b63ce3acf",
        "colab": {
          "base_uri": "https://localhost:8080/",
          "height": 153
        }
      },
      "source": [
        "train_loss, train_acc = model.evaluate(train_img, train_labels)\n",
        "test_loss, test_acc = model.evaluate(test_img, test_labels) #den är overfit med 99% till 93%\n",
        "print('\\nTrain noggrannhet: ', int(train_acc*100),'%', '\\nTrain loss', train_loss)\n",
        "print('\\nTest noggrannhet: ', int(test_acc*100),'%', '\\nTest loss', test_loss)"
      ],
      "execution_count": 226,
      "outputs": [
        {
          "output_type": "stream",
          "text": [
            "60000/60000 [==============================] - 22s 366us/sample - loss: 0.1690 - acc: 0.9371\n",
            "10000/10000 [==============================] - 4s 364us/sample - loss: 0.0756 - acc: 0.9744\n",
            "\n",
            "Train noggrannhet:  93 % \n",
            "Train loss 0.16899847033011417\n",
            "\n",
            "Test noggrannhet:  97 % \n",
            "Test loss 0.07564697565734387\n"
          ],
          "name": "stdout"
        }
      ]
    },
    {
      "cell_type": "markdown",
      "metadata": {
        "id": "4UkF5xvym01s",
        "colab_type": "text"
      },
      "source": [
        "# Resultat av evaluering: Bäst testresultat av klassificering"
      ]
    },
    {
      "cell_type": "code",
      "metadata": {
        "id": "Bl0Ra64Zm4Bh",
        "colab_type": "code",
        "colab": {}
      },
      "source": [
        "predictions = model.predict(test_img)"
      ],
      "execution_count": 0,
      "outputs": []
    },
    {
      "cell_type": "code",
      "metadata": {
        "id": "RmHBoGIOnGYa",
        "colab_type": "code",
        "outputId": "1d27ebee-4667-493b-98c0-6acc030d4fa3",
        "colab": {
          "base_uri": "https://localhost:8080/",
          "height": 51
        }
      },
      "source": [
        "print(\"Etikett_nummer: \",np.argmax(predictions[0]), '\\n'\"Katergori: \", fashion_cat[np.argmax(predictions[0])])"
      ],
      "execution_count": 155,
      "outputs": [
        {
          "output_type": "stream",
          "text": [
            "Etikett_nummer:  9 \n",
            "Katergori:  Boot\n"
          ],
          "name": "stdout"
        }
      ]
    },
    {
      "cell_type": "code",
      "metadata": {
        "id": "IPn6SmY0cS69",
        "colab_type": "code",
        "outputId": "ff2d9afd-6a96-4a30-d006-b63ef954503d",
        "colab": {
          "base_uri": "https://localhost:8080/",
          "height": 51
        }
      },
      "source": [
        "# Evaluate the model on test set\n",
        "score = model.evaluate(test_img, test_labels, verbose=0)\n",
        "# Print test accuracy\n",
        "print('\\n', 'Test accuracy:', score[1])"
      ],
      "execution_count": 156,
      "outputs": [
        {
          "output_type": "stream",
          "text": [
            "\n",
            " Test accuracy: 0.9991\n"
          ],
          "name": "stdout"
        }
      ]
    }
  ]
}